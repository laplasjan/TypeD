{
 "cells": [
  {
   "cell_type": "code",
   "execution_count": 4,
   "id": "dd904401-2729-4f67-935b-c6f50b2d0425",
   "metadata": {},
   "outputs": [],
   "source": [
    "import itertools as it\n",
    "import numpy as np\n",
    "import networkx as nx"
   ]
  },
  {
   "cell_type": "code",
   "execution_count": 5,
   "id": "35f7c0fb",
   "metadata": {},
   "outputs": [],
   "source": [
    "def T_pqr(p,q,r):\n",
    "    G = nx.Graph()\n",
    "    if p> 1 and q>1 and r >1:\n",
    "        for i in range(p+q+r-2):\n",
    "            G.add_node(i, waga=i)\n",
    "        for i in range (0, p-1):\n",
    "            G.add_edge(i,i+1)\n",
    "        for i in range (p,p+q-2):\n",
    "            G.add_edge(i,i+1)\n",
    "            G.add_edge(0,p)\n",
    "        for i in range(p+q-1,p+q+r-3):\n",
    "            G.add_edge(i,i+1)\n",
    "            G.add_edge(0,p+q-1)\n",
    "    if p == 1 or q ==1 or r == 1:\n",
    "        for i in range(p+q+r-2):\n",
    "            G.add_node(i, waga=i)\n",
    "        for i in range (0, p+q+r-3):\n",
    "            G.add_edge(i,i+1)\n",
    "    if p == 2:\n",
    "        for i in range(0,p+q+r-2):\n",
    "            G.add_node(i, waga=i)\n",
    "        for i in range (0, 1):\n",
    "            G.add_edge(i,i+1)\n",
    "        for i in range (2,q):\n",
    "            G.add_edge(i,i+1)\n",
    "            G.add_edge(0,2)\n",
    "        for i in range(q+1,q+r-1):\n",
    "            G.add_edge(i,i+1)\n",
    "            G.add_edge(0,q+1)\n",
    "    if q ==2 :\n",
    "        for i in range(0,p+q+r-2):\n",
    "            G.add_node(i, waga=i)\n",
    "        for i in range (0, p-1):\n",
    "            G.add_edge(i,i+1)\n",
    "            G.add_edge(0,p)\n",
    "        for i in range(p+2,p+q+r-3):\n",
    "            G.add_edge(i,i+1)\n",
    "            G.add_edge(0,p+2)\n",
    "    if r == 2:\n",
    "        for i in range(0,p+q+r-2):\n",
    "            G.add_node(i, waga=i)\n",
    "        for i in range (0, p-1):\n",
    "            G.add_edge(i,i+1)\n",
    "        for i in range (p,p+q-2):\n",
    "            G.add_edge(i,i+1)\n",
    "            G.add_edge(0,p)\n",
    "        G.add_edge(0,p+q-1)\n",
    "    return G"
   ]
  },
  {
   "cell_type": "code",
   "execution_count": 6,
   "id": "3d010801-5de1-42a2-890d-b44d843f190d",
   "metadata": {},
   "outputs": [],
   "source": [
    "def symetryczna(A, k):\n",
    "    \n",
    "    max_len = max(len(sublist) for sublist in A)\n",
    "    zewn = []\n",
    "    \n",
    "    for kombinacja in it.combinations_with_replacement(range(len(A)), k):\n",
    "        summed_sublist = []\n",
    "        for j in range(max_len):\n",
    "            sublist_sum = sum(A[i][j] if j < len(A[i]) else 0 for i in kombinacja)\n",
    "            summed_sublist.append(sublist_sum)\n",
    "        zewn.append(summed_sublist)\n",
    "    return zewn"
   ]
  },
  {
   "cell_type": "code",
   "execution_count": 21,
   "id": "c4dc879d-9ef0-483f-b41a-5a9ab3569f5b",
   "metadata": {},
   "outputs": [
    {
     "data": {
      "text/plain": [
       "[[2, 4, 8, 2],\n",
       " [3, -1, 10, 2],\n",
       " [4, 3, 2, 3],\n",
       " [4, -6, 12, 2],\n",
       " [5, -2, 4, 3],\n",
       " [6, 2, -4, 4]]"
      ]
     },
     "execution_count": 21,
     "metadata": {},
     "output_type": "execute_result"
    }
   ],
   "source": [
    "symetryczna(([1,2,4,1], [2,-3,6,1], [3,1,-2,2]), 2)"
   ]
  },
  {
   "cell_type": "code",
   "execution_count": 8,
   "id": "080fdd2d",
   "metadata": {},
   "outputs": [],
   "source": [
    "def zewnetrzna(A, k):\n",
    "    \n",
    "    max_len = max(len(sublist) for sublist in A)\n",
    "    zewn = []\n",
    "    \n",
    "    for kombinacja in it.combinations(range(len(A)), k):\n",
    "        summed_sublist = []\n",
    "        for j in range(max_len):\n",
    "            sublist_sum = sum(A[i][j] if j < len(A[i]) else 0 for i in kombinacja)\n",
    "            summed_sublist.append(sublist_sum)\n",
    "        zewn.append(summed_sublist)\n",
    "    return zewn"
   ]
  },
  {
   "cell_type": "code",
   "execution_count": 9,
   "id": "62f36f6d-30d6-4b2c-b9b0-bf0b8205d586",
   "metadata": {},
   "outputs": [],
   "source": [
    "D3= T_pqr(2,2,2)\n",
    "D1= T_pqr(2,2,1)\n",
    "D5= T_pqr(2,2,3)"
   ]
  },
  {
   "cell_type": "code",
   "execution_count": 10,
   "id": "46e77db0-2ab8-4893-ba33-44e2cf25cf7e",
   "metadata": {},
   "outputs": [],
   "source": [
    "def nadawanie_wag(graph, n, wagi_macierz):\n",
    "    wagi_wszystkie = []\n",
    "    graphs = [graph for _ in range(n)]\n",
    "    if len(wagi_macierz) < n:\n",
    "        raise ValueError(\"za mało wag\")\n",
    "    for i in range(n):\n",
    "        if len(graph.nodes()) < len(wagi_macierz[i]):\n",
    "            raise ValueError(\"za krótka lista wag dla grafu nr {}\".format(i + 1))\n",
    "    for G, row in zip(graphs, wagi_macierz):\n",
    "        wagi = []\n",
    "        for i, weight in enumerate(row):\n",
    "            G.add_node(i, weight=weight)\n",
    "            wagi.append(weight)\n",
    "        wagi_wszystkie.append(wagi)\n",
    "    return wagi_wszystkie"
   ]
  },
  {
   "cell_type": "code",
   "execution_count": 11,
   "id": "59d5c644-b00f-4204-a988-981f809a9b93",
   "metadata": {},
   "outputs": [],
   "source": [
    "def odbicie(G, node):\n",
    "    wagi = [] \n",
    "    \n",
    "    neighbors = list(G.neighbors(node))\n",
    "    \n",
    "    G.nodes[node]['weight'] = - G.nodes[node]['weight']\n",
    "    \n",
    "    for neighbor in neighbors:\n",
    "        nowa_waga = G.nodes[neighbor]['weight'] + G.nodes[node]['weight']\n",
    "        G.nodes[neighbor]['weight'] = nowa_waga\n",
    "        \n",
    "    for _, w in G.nodes(data='weight'):\n",
    "        wagi.append(w)\n",
    "    return wagi"
   ]
  },
  {
   "cell_type": "markdown",
   "id": "6c8dd540-c3f4-4396-a985-375e0a88e427",
   "metadata": {},
   "source": [
    "### W funkcji odbicia podajesz za argument graf wcześniej zdefiniowany za pomocą funkcji T_pqr(p,q,r) np zapisujesz Dx=T_pqr(p,q,r)\n",
    "### n to liczba kopii takiego grafu\n",
    "### node wiadomo, dla zmiennej wagi_macierz musisz też zadeklarować wagi z symetrycznej/zewnętrznej"
   ]
  },
  {
   "cell_type": "code",
   "execution_count": 12,
   "id": "347e7cde-25bf-4236-a9fd-19f06fc4cb93",
   "metadata": {},
   "outputs": [],
   "source": [
    "def ro_1(graphs, wagi_macierz):\n",
    "    results = []\n",
    "    \n",
    "    for i, G in enumerate(graphs):\n",
    "        for node, weight in zip(G.nodes(), wagi_macierz[i]):\n",
    "            G.nodes[node]['weight'] = weight\n",
    "    \n",
    "    for G in graphs:\n",
    "        weights = []\n",
    "        for node in G.nodes():\n",
    "            G.nodes[node]['weight'] += 1\n",
    "            weights.append(G.nodes[node]['weight'])\n",
    "        results.append(weights)\n",
    "    \n",
    "    return results"
   ]
  },
  {
   "cell_type": "code",
   "execution_count": 13,
   "id": "f7350d6c-d6d2-4b17-a5c5-73752f322ca4",
   "metadata": {},
   "outputs": [],
   "source": [
    "def ro_2(graphs, wagi_macierz):\n",
    "    results = []\n",
    "    \n",
    "    for i, G in enumerate(graphs):\n",
    "        for node, weight in zip(G.nodes(), wagi_macierz[i]):\n",
    "            G.nodes[node]['weight'] = weight\n",
    "    \n",
    "    for G in graphs:\n",
    "        weights = []\n",
    "        for node in G.nodes():\n",
    "            G.nodes[node]['weight'] -= 1\n",
    "            weights.append(G.nodes[node]['weight'])\n",
    "        results.append(weights)\n",
    "    \n",
    "    return results"
   ]
  },
  {
   "cell_type": "code",
   "execution_count": 14,
   "id": "8aaf2dc7-1f94-4acc-a2ac-ee3dae6c4c6b",
   "metadata": {},
   "outputs": [],
   "source": [
    "def odbicia(graph, n, node, wagi_macierz):\n",
    "    # Stworzenie kopii grafów, aby żadne na siebie nie wpływały\n",
    "    graphs = [graph.copy() for _ in range(n)]\n",
    "    \n",
    "    odbicia_list = []\n",
    "    \n",
    "    for G, wagi in zip(graphs, wagi_macierz):\n",
    "        nadawanie_wag(G, n, [wagi])\n",
    "        odbicie_result = odbicie(G, node)\n",
    "        odbicia_list.append(odbicie_result)\n",
    "    \n",
    "    return odbicia_list"
   ]
  },
  {
   "cell_type": "code",
   "execution_count": 15,
   "id": "0e607296-c3d2-4c9f-8f20-3473660e08f6",
   "metadata": {},
   "outputs": [],
   "source": [
    "def odbicia_ro1(graph, n, wagi_macierz, node):\n",
    "    # Stworzenie kopii grafów, aby żadne na siebie nie wpływały\n",
    "    graphs = [graph.copy() for _ in range(n)]\n",
    "    \n",
    "    odbicia_list = []\n",
    "    \n",
    "    for G, wagi in zip(graphs, wagi_macierz):\n",
    "        if len(wagi) > G.number_of_nodes():\n",
    "            raise ValueError(\"Lista wag ma więcej elementów niż wierzchołków w grafie.\")\n",
    "        nadawanie_wag(G, n, wagi_macierz)\n",
    "        \n",
    "    ro_1(graphs, wagi_macierz)\n",
    "    \n",
    "    for G in graphs:\n",
    "        odbicie_result = odbicie(G, node)\n",
    "        odbicia_list.append(odbicie_result)\n",
    "        \n",
    "    ro_result = ro_2(graphs, odbicia_list)\n",
    "\n",
    "    porownywanie = any(ro_result == wagi for wagi in wagi_macierz)\n",
    "\n",
    "    ujemne = any(x < 0 for sublist in ro_result for x in sublist)\n",
    "\n",
    "    return ro_result, porownywanie, ujemne\n",
    "\n",
    "    \n",
    "    return ro_result"
   ]
  },
  {
   "cell_type": "code",
   "execution_count": null,
   "id": "377f8526-18e7-4b38-9694-4561d7e03e6d",
   "metadata": {},
   "outputs": [],
   "source": [
    "odbicia_ro1(D3, 2,[[-2, -4, -8, 2],\n",
    " [-2, -4, -8, 2]\n",
    "],0)"
   ]
  },
  {
   "cell_type": "code",
   "execution_count": 17,
   "id": "8c96b33d-3d2c-4294-a45a-354a445775e9",
   "metadata": {},
   "outputs": [],
   "source": [
    "def odbicia_ro1(graph, n, wagi_macierz, node):\n",
    "    def wszystkie_ujemne(wagi):\n",
    "        return all(x < 0 for sublist in wagi for x in sublist)\n",
    "\n",
    "    # Stworzenie kopii grafów, aby żadne na siebie nie wpływały\n",
    "    graphs = [graph.copy() for _ in range(n)]\n",
    "    \n",
    "    while True:\n",
    "        odbicia_list = []\n",
    "        \n",
    "        for G, wagi in zip(graphs, wagi_macierz):\n",
    "            if len(wagi) > G.number_of_nodes():\n",
    "                raise ValueError(\"Lista wag ma więcej elementów niż wierzchołków w grafie.\")\n",
    "            nadawanie_wag(G, n, wagi_macierz)\n",
    "            \n",
    "        ro_1(graphs, wagi_macierz)\n",
    "        \n",
    "        for G in graphs:\n",
    "            odbicie_result = odbicie(G, node)\n",
    "            odbicia_list.append(odbicie_result)\n",
    "            \n",
    "        ro_result = ro_2(graphs, odbicia_list)\n",
    "        \n",
    "        # Usunięcie powtarzających się wag z wagi_macierz\n",
    "        wagi_macierz = [wagi for wagi in wagi_macierz if not any(ro_result == w for w in wagi_macierz)]\n",
    "        \n",
    "        # Sprawdzenie, czy wszystkie wagi są ujemne\n",
    "        if wszystkie_ujemne(ro_result):\n",
    "            break\n",
    "\n",
    "    return ro_result"
   ]
  },
  {
   "cell_type": "code",
   "execution_count": null,
   "id": "0703594e-6ea7-40d0-886b-3ec23aad124a",
   "metadata": {},
   "outputs": [],
   "source": []
  },
  {
   "cell_type": "code",
   "execution_count": null,
   "id": "56668258-23bb-4e70-8618-16df6ed4d847",
   "metadata": {},
   "outputs": [],
   "source": []
  }
 ],
 "metadata": {
  "kernelspec": {
   "display_name": "Python 3 (ipykernel)",
   "language": "python",
   "name": "python3"
  },
  "language_info": {
   "codemirror_mode": {
    "name": "ipython",
    "version": 3
   },
   "file_extension": ".py",
   "mimetype": "text/x-python",
   "name": "python",
   "nbconvert_exporter": "python",
   "pygments_lexer": "ipython3",
   "version": "3.9.13"
  }
 },
 "nbformat": 4,
 "nbformat_minor": 5
}
