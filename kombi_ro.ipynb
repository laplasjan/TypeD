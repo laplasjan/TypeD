{
 "cells": [
  {
   "cell_type": "code",
   "execution_count": 1,
   "id": "dd904401-2729-4f67-935b-c6f50b2d0425",
   "metadata": {},
   "outputs": [],
   "source": [
    "import itertools as it\n",
    "import numpy as np\n",
    "import networkx as nx"
   ]
  },
  {
   "cell_type": "code",
   "execution_count": 2,
   "id": "35f7c0fb",
   "metadata": {},
   "outputs": [],
   "source": [
    "def T_pqr(p,q,r):\n",
    "    G = nx.Graph()\n",
    "    if p> 1 and q>1 and r >1:\n",
    "        for i in range(p+q+r-2):\n",
    "            G.add_node(i, waga=i)\n",
    "        for i in range (0, p-1):\n",
    "            G.add_edge(i,i+1)\n",
    "        for i in range (p,p+q-2):\n",
    "            G.add_edge(i,i+1)\n",
    "            G.add_edge(0,p)\n",
    "        for i in range(p+q-1,p+q+r-3):\n",
    "            G.add_edge(i,i+1)\n",
    "            G.add_edge(0,p+q-1)\n",
    "    if p == 1 or q ==1 or r == 1:\n",
    "        for i in range(p+q+r-2):\n",
    "            G.add_node(i, waga=i)\n",
    "        for i in range (0, p+q+r-3):\n",
    "            G.add_edge(i,i+1)\n",
    "    if p == 2:\n",
    "        for i in range(0,p+q+r-2):\n",
    "            G.add_node(i, waga=i)\n",
    "        for i in range (0, 1):\n",
    "            G.add_edge(i,i+1)\n",
    "        for i in range (2,q):\n",
    "            G.add_edge(i,i+1)\n",
    "            G.add_edge(0,2)\n",
    "        for i in range(q+1,q+r-1):\n",
    "            G.add_edge(i,i+1)\n",
    "            G.add_edge(0,q+1)\n",
    "    if q ==2 :\n",
    "        for i in range(0,p+q+r-2):\n",
    "            G.add_node(i, waga=i)\n",
    "        for i in range (0, p-1):\n",
    "            G.add_edge(i,i+1)\n",
    "            G.add_edge(0,p)\n",
    "        for i in range(p+2,p+q+r-3):\n",
    "            G.add_edge(i,i+1)\n",
    "            G.add_edge(0,p+2)\n",
    "    if r == 2:\n",
    "        for i in range(0,p+q+r-2):\n",
    "            G.add_node(i, waga=i)\n",
    "        for i in range (0, p-1):\n",
    "            G.add_edge(i,i+1)\n",
    "        for i in range (p,p+q-2):\n",
    "            G.add_edge(i,i+1)\n",
    "            G.add_edge(0,p)\n",
    "        G.add_edge(0,p+q-1)\n",
    "    return G"
   ]
  },
  {
   "cell_type": "code",
   "execution_count": 3,
   "id": "3d010801-5de1-42a2-890d-b44d843f190d",
   "metadata": {},
   "outputs": [],
   "source": [
    "def symetryczna(A, k):\n",
    "    \n",
    "    max_len = max(len(sublist) for sublist in A)\n",
    "    zewn = []\n",
    "    \n",
    "    for kombinacja in it.combinations_with_replacement(range(len(A)), k):\n",
    "        summed_sublist = []\n",
    "        for j in range(max_len):\n",
    "            sublist_sum = sum(A[i][j] if j < len(A[i]) else 0 for i in kombinacja)\n",
    "            summed_sublist.append(sublist_sum)\n",
    "        zewn.append(summed_sublist)\n",
    "    return zewn"
   ]
  },
  {
   "cell_type": "code",
   "execution_count": 4,
   "id": "c4dc879d-9ef0-483f-b41a-5a9ab3569f5b",
   "metadata": {},
   "outputs": [
    {
     "data": {
      "text/plain": [
       "[[22, 4, 8, 20],\n",
       " [13, -1, 10, 21],\n",
       " [14, 3, 2, 30],\n",
       " [4, -6, 12, 22],\n",
       " [5, -2, 4, 31],\n",
       " [6, 2, -4, 40]]"
      ]
     },
     "execution_count": 4,
     "metadata": {},
     "output_type": "execute_result"
    }
   ],
   "source": [
    "symetryczna(([11,2,4,10], [2,-3,6,11], [3,1,-2,20]), 2)"
   ]
  },
  {
   "cell_type": "code",
   "execution_count": 5,
   "id": "080fdd2d",
   "metadata": {},
   "outputs": [],
   "source": [
    "def zewnetrzna(A, k):\n",
    "    \n",
    "    max_len = max(len(sublist) for sublist in A)\n",
    "    zewn = []\n",
    "    \n",
    "    for kombinacja in it.combinations(range(len(A)), k):\n",
    "        summed_sublist = []\n",
    "        for j in range(max_len):\n",
    "            sublist_sum = sum(A[i][j] if j < len(A[i]) else 0 for i in kombinacja)\n",
    "            summed_sublist.append(sublist_sum)\n",
    "        zewn.append(summed_sublist)\n",
    "    return zewn"
   ]
  },
  {
   "cell_type": "code",
   "execution_count": 6,
   "id": "62f36f6d-30d6-4b2c-b9b0-bf0b8205d586",
   "metadata": {},
   "outputs": [],
   "source": [
    "D3= T_pqr(2,2,2)\n",
    "D1= T_pqr(2,2,1)\n",
    "D5= T_pqr(2,2,3)"
   ]
  },
  {
   "cell_type": "code",
   "execution_count": 13,
   "id": "46e77db0-2ab8-4893-ba33-44e2cf25cf7e",
   "metadata": {},
   "outputs": [],
   "source": [
    "def nadawanie_wag(graph, n, wagi_macierz):\n",
    "    wagi_wszystkie = []\n",
    "    graphs = [graph for _ in range(n)]\n",
    "    if len(wagi_macierz) < n:\n",
    "        raise ValueError(\"za mało wag\")\n",
    "    for i in range(n):\n",
    "        if len(graph.nodes()) < len(wagi_macierz[i]):\n",
    "            raise ValueError(\"za krótka lista wag dla grafu nr {}\".format(i + 1))\n",
    "    for G, row in zip(graphs, wagi_macierz):\n",
    "        wagi = []\n",
    "        for i, weight in enumerate(row):\n",
    "            G.add_node(i, weight=weight)\n",
    "            wagi.append(weight)\n",
    "        wagi_wszystkie.append(wagi)\n",
    "    return wagi_wszystkie"
   ]
  },
  {
   "cell_type": "code",
   "execution_count": 14,
   "id": "ee31e974-f219-4186-b94e-2ab26fd8041b",
   "metadata": {},
   "outputs": [
    {
     "data": {
      "text/plain": [
       "[[2, 2, 2, 2],\n",
       " [3, 3, 3, 3],\n",
       " [4, 4, 4, 4],\n",
       " [4, 4, 4, 4],\n",
       " [5, 5, 5, 5],\n",
       " [6, 6, 6, 6]]"
      ]
     },
     "execution_count": 14,
     "metadata": {},
     "output_type": "execute_result"
    }
   ],
   "source": [
    "nadawanie_wag(D3, 6, [[2, 2, 2, 2],\n",
    " [3, 3, 3, 3],\n",
    " [4, 4, 4, 4],\n",
    " [4, 4, 4, 4],\n",
    " [5, 5, 5, 5],\n",
    " [6, 6, 6, 6]])"
   ]
  },
  {
   "cell_type": "code",
   "execution_count": 15,
   "id": "55ed55d8-8cd8-4beb-876d-87572a8a7d63",
   "metadata": {},
   "outputs": [
    {
     "ename": "ValueError",
     "evalue": "za mało wag",
     "output_type": "error",
     "traceback": [
      "\u001b[1;31m---------------------------------------------------------------------------\u001b[0m",
      "\u001b[1;31mValueError\u001b[0m                                Traceback (most recent call last)",
      "Cell \u001b[1;32mIn[15], line 1\u001b[0m\n\u001b[1;32m----> 1\u001b[0m \u001b[43mnadawanie_wag\u001b[49m\u001b[43m(\u001b[49m\u001b[43mT_pqr\u001b[49m\u001b[43m(\u001b[49m\u001b[38;5;241;43m5\u001b[39;49m\u001b[43m,\u001b[49m\u001b[38;5;241;43m5\u001b[39;49m\u001b[43m,\u001b[49m\u001b[38;5;241;43m5\u001b[39;49m\u001b[43m)\u001b[49m\u001b[43m,\u001b[49m\u001b[43m \u001b[49m\u001b[38;5;241;43m2\u001b[39;49m\u001b[43m,\u001b[49m\n\u001b[0;32m      2\u001b[0m \u001b[43m[\u001b[49m\u001b[43m[\u001b[49m\u001b[38;5;241;43m2\u001b[39;49m\u001b[43m,\u001b[49m\u001b[43m \u001b[49m\u001b[38;5;241;43m2\u001b[39;49m\u001b[43m,\u001b[49m\u001b[43m \u001b[49m\u001b[38;5;241;43m2\u001b[39;49m\u001b[43m,\u001b[49m\u001b[43m \u001b[49m\u001b[38;5;241;43m2\u001b[39;49m\u001b[43m]\u001b[49m\u001b[43m]\u001b[49m\u001b[43m)\u001b[49m\n",
      "Cell \u001b[1;32mIn[13], line 5\u001b[0m, in \u001b[0;36mnadawanie_wag\u001b[1;34m(graph, n, wagi_macierz)\u001b[0m\n\u001b[0;32m      3\u001b[0m graphs \u001b[38;5;241m=\u001b[39m [graph \u001b[38;5;28;01mfor\u001b[39;00m _ \u001b[38;5;129;01min\u001b[39;00m \u001b[38;5;28mrange\u001b[39m(n)]\n\u001b[0;32m      4\u001b[0m \u001b[38;5;28;01mif\u001b[39;00m \u001b[38;5;28mlen\u001b[39m(wagi_macierz) \u001b[38;5;241m<\u001b[39m n:\n\u001b[1;32m----> 5\u001b[0m     \u001b[38;5;28;01mraise\u001b[39;00m \u001b[38;5;167;01mValueError\u001b[39;00m(\u001b[38;5;124m\"\u001b[39m\u001b[38;5;124mza mało wag\u001b[39m\u001b[38;5;124m\"\u001b[39m)\n\u001b[0;32m      6\u001b[0m \u001b[38;5;28;01mfor\u001b[39;00m i \u001b[38;5;129;01min\u001b[39;00m \u001b[38;5;28mrange\u001b[39m(n):\n\u001b[0;32m      7\u001b[0m     \u001b[38;5;28;01mif\u001b[39;00m \u001b[38;5;28mlen\u001b[39m(graph\u001b[38;5;241m.\u001b[39mnodes()) \u001b[38;5;241m<\u001b[39m \u001b[38;5;28mlen\u001b[39m(wagi_macierz[i]):\n",
      "\u001b[1;31mValueError\u001b[0m: za mało wag"
     ]
    }
   ],
   "source": [
    "nadawanie_wag(T_pqr(5,5,5), 2,\n",
    "[[2, 2, 2, 2]])"
   ]
  },
  {
   "cell_type": "code",
   "execution_count": 128,
   "id": "59d5c644-b00f-4204-a988-981f809a9b93",
   "metadata": {},
   "outputs": [],
   "source": [
    "def odbicie(G, node):\n",
    "    wagi = [] \n",
    "    \n",
    "    neighbors = list(G.neighbors(node))\n",
    "    \n",
    "    G.nodes[node]['weight'] = - G.nodes[node]['weight']\n",
    "    \n",
    "    for neighbor in neighbors:\n",
    "        nowa_waga = G.nodes[neighbor]['weight'] + G.nodes[node]['weight']\n",
    "        G.nodes[neighbor]['weight'] = nowa_waga\n",
    "        \n",
    "    for _, w in G.nodes(data='weight'):\n",
    "        wagi.append(w)\n",
    "    return wagi"
   ]
  },
  {
   "cell_type": "markdown",
   "id": "6c8dd540-c3f4-4396-a985-375e0a88e427",
   "metadata": {},
   "source": [
    "### W funkcji odbicia podajesz za argument graf wcześniej zdefiniowany za pomocą funkcji T_pqr(p,q,r) np zapisujesz Dx=T_pqr(p,q,r)\n",
    "### n to liczba kopii takiego grafu\n",
    "### node wiadomo, dla zmiennej wagi_macierz musisz też zadeklarować wagi z symetrycznej/zewnętrznej"
   ]
  },
  {
   "cell_type": "code",
   "execution_count": 129,
   "id": "347e7cde-25bf-4236-a9fd-19f06fc4cb93",
   "metadata": {},
   "outputs": [],
   "source": [
    "def ro_1(graphs, wagi_macierz):\n",
    "    results = []\n",
    "    \n",
    "    for i, G in enumerate(graphs):\n",
    "        for node, weight in zip(G.nodes(), wagi_macierz[i]):\n",
    "            G.nodes[node]['weight'] = weight\n",
    "    \n",
    "    for G in graphs:\n",
    "        weights = []\n",
    "        for node in G.nodes():\n",
    "            G.nodes[node]['weight'] += 1\n",
    "            weights.append(G.nodes[node]['weight'])\n",
    "        results.append(weights)\n",
    "    \n",
    "    return results"
   ]
  },
  {
   "cell_type": "code",
   "execution_count": 130,
   "id": "f7350d6c-d6d2-4b17-a5c5-73752f322ca4",
   "metadata": {},
   "outputs": [],
   "source": [
    "def ro_2(graphs, wagi_macierz):\n",
    "    results = []\n",
    "    \n",
    "    for i, G in enumerate(graphs):\n",
    "        for node, weight in zip(G.nodes(), wagi_macierz[i]):\n",
    "            G.nodes[node]['weight'] = weight\n",
    "    \n",
    "    for G in graphs:\n",
    "        weights = []\n",
    "        for node in G.nodes():\n",
    "            G.nodes[node]['weight'] -= 1\n",
    "            weights.append(G.nodes[node]['weight'])\n",
    "        results.append(weights)\n",
    "    \n",
    "    return results"
   ]
  },
  {
   "cell_type": "code",
   "execution_count": 131,
   "id": "8aaf2dc7-1f94-4acc-a2ac-ee3dae6c4c6b",
   "metadata": {},
   "outputs": [],
   "source": [
    "def odbicia(graph, n, node, wagi_macierz):\n",
    "    # Stworzenie kopii grafów, aby żadne na siebie nie wpływały\n",
    "    graphs = [graph.copy() for _ in range(n)]\n",
    "    \n",
    "    odbicia_list = []\n",
    "    \n",
    "    for G, wagi in zip(graphs, wagi_macierz):\n",
    "        nadawanie_wag(G, n, [wagi])\n",
    "        odbicie_result = odbicie(G, node)\n",
    "        odbicia_list.append(odbicie_result)\n",
    "    \n",
    "    return odbicia_list"
   ]
  },
  {
   "cell_type": "code",
   "execution_count": 132,
   "id": "d5a70fca-8d3c-4de4-80d7-3d9cef5fce62",
   "metadata": {},
   "outputs": [],
   "source": [
    "#odbicia z ro, te z początku\n",
    "def odbicia_ro1(graph, n, node, wagi_macierz):\n",
    "    # Stworzenie kopii grafów, aby żadne na siebie nie wpływały\n",
    "    graphs = [graph.copy() for _ in range(n)]\n",
    "    \n",
    "    odbicia_list = []\n",
    "    \n",
    "    for G, wagi in zip(graphs, wagi_macierz):\n",
    "        if len(wagi) > G.number_of_nodes():\n",
    "            raise ValueError(\"Weight list has more elements than the graph has nodes.\")\n",
    "        nadawanie_wag(G, n, [wagi])\n",
    "        \n",
    "    ro_1(graphs, wagi_macierz)\n",
    "    \n",
    "    for G in graphs:\n",
    "        odbicie_result = odbicie(G, node)\n",
    "        odbicia_list.append(odbicie_result)\n",
    "        \n",
    "    ro_result = ro_2(graphs, odbicia_list)\n",
    "\n",
    "    return ro_result"
   ]
  },
  {
   "cell_type": "code",
   "execution_count": 133,
   "id": "377f8526-18e7-4b38-9694-4561d7e03e6d",
   "metadata": {},
   "outputs": [
    {
     "data": {
      "text/plain": [
       "([[-4, -1, -1, -1],\n",
       "  [-5, -1, -1, -1],\n",
       "  [-6, -1, -1, -1],\n",
       "  [-6, -1, -1, -1],\n",
       "  [-7, -1, -1, -1]],\n",
       " False,\n",
       " True)"
      ]
     },
     "execution_count": 133,
     "metadata": {},
     "output_type": "execute_result"
    }
   ],
   "source": [
    "odbicia_ro(D3, 5,0, [[2, 2, 2, 2],\n",
    " [3, 3, 3, 3],\n",
    " [4, 4, 4, 4],\n",
    " [4, 4, 4, 4],\n",
    " [5, 5, 5, 5],\n",
    " [6, 6, 6, 6]])"
   ]
  },
  {
   "cell_type": "code",
   "execution_count": 149,
   "id": "ffe35e2b-f6cb-45f0-b65b-a2d2acb0c898",
   "metadata": {},
   "outputs": [],
   "source": [
    "#odbicia ro, które porównują wagi z wagami po operacji ro oraz sprawdzają, czy jest jekiś element ujemny\n",
    "def odbicia_ro(graph, n, node, wagi_macierz):\n",
    "    graphs = [graph.copy() for _ in range(n)]\n",
    "    \n",
    "    odbicia_list = []\n",
    "    \n",
    "    for G, wagi in zip(graphs, wagi_macierz):\n",
    "        nadawanie_wag(G, n, [wagi])\n",
    "    \n",
    "    ro_1(graphs, wagi_macierz)\n",
    "    \n",
    "    for G in graphs:\n",
    "        min_weight_node = min(G.nodes, key=lambda x: G.nodes[x]['weight'])\n",
    "        \n",
    "        odbicie_result = odbicie(G, min_weight_node)\n",
    "        odbicia_list.append(odbicie_result)\n",
    "        \n",
    "    ro_result = ro_2(graphs, odbicia_list)\n",
    "\n",
    "    porownywanie = any(ro_result == wagi for wagi in wagi_macierz)\n",
    "\n",
    "    ujemne = any(x < 0 for sublist in ro_result for x in sublist)\n",
    "\n",
    "    return ro_result, porownywanie, ujemne\n"
   ]
  },
  {
   "cell_type": "code",
   "execution_count": 150,
   "id": "d7e45d87-dafe-46bb-9215-f2071ca27bb4",
   "metadata": {},
   "outputs": [
    {
     "data": {
      "text/plain": [
       "([[17, -6, 8, 20],\n",
       "  [13, -1, 10, 21],\n",
       "  [11, 3, -4, 30],\n",
       "  [9, 4, 12, 22],\n",
       "  [6, 0, 4, 31],\n",
       "  [9, 2, 2, 40]],\n",
       " False,\n",
       " True)"
      ]
     },
     "execution_count": 150,
     "metadata": {},
     "output_type": "execute_result"
    }
   ],
   "source": [
    "odbicia_ro(D3,6, 0, [[22, 4, 8, 20],\n",
    " [13, -1, 10, 21],\n",
    " [14, 3, 2, 30],\n",
    " [4, -6, 12, 22],\n",
    " [5, -2, 4, 31],\n",
    " [6, 2, -4, 40]])"
   ]
  },
  {
   "cell_type": "code",
   "execution_count": null,
   "id": "8c96b33d-3d2c-4294-a45a-354a445775e9",
   "metadata": {},
   "outputs": [],
   "source": []
  },
  {
   "cell_type": "code",
   "execution_count": null,
   "id": "0703594e-6ea7-40d0-886b-3ec23aad124a",
   "metadata": {},
   "outputs": [],
   "source": []
  }
 ],
 "metadata": {
  "kernelspec": {
   "display_name": "Python 3 (ipykernel)",
   "language": "python",
   "name": "python3"
  },
  "language_info": {
   "codemirror_mode": {
    "name": "ipython",
    "version": 3
   },
   "file_extension": ".py",
   "mimetype": "text/x-python",
   "name": "python",
   "nbconvert_exporter": "python",
   "pygments_lexer": "ipython3",
   "version": "3.9.13"
  }
 },
 "nbformat": 4,
 "nbformat_minor": 5
}
