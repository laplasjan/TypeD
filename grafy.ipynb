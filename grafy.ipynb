{
 "cells": [
  {
   "cell_type": "markdown",
   "id": "95b08257-01b7-4c3a-a85b-d6c4ed493183",
   "metadata": {},
   "source": [
    "### Import bibliotek ---> sprawdź proszę, czy są zainstalowane."
   ]
  },
  {
   "cell_type": "code",
   "execution_count": 1,
   "id": "9d8f2277-d6c7-4921-871c-91d4ca825083",
   "metadata": {},
   "outputs": [],
   "source": [
    "import networkx as nx\n",
    "import matplotlib.pyplot as plt\n",
    "import random\n",
    "import numpy as np"
   ]
  },
  {
   "cell_type": "markdown",
   "id": "bb281324-758f-4044-b975-a8a00424ab1b",
   "metadata": {},
   "source": [
    "### Rysowanie grafów"
   ]
  },
  {
   "cell_type": "code",
   "execution_count": 2,
   "id": "edb2225b-971b-448c-9c8e-cde884bcd444",
   "metadata": {},
   "outputs": [],
   "source": [
    "G = nx.Graph()\n",
    "for i in range(5):\n",
    "    G.add_node((i))\n",
    "for i in range (0,2):\n",
    "    G.add_edge(i,i+1)\n",
    "for i in range (1,2):\n",
    "    G.add_edge(i,i+1)\n",
    "for i in range(3,4):\n",
    "    G.add_edge(i,i+1)\n",
    "    G.add_edge(1,3)"
   ]
  },
  {
   "cell_type": "code",
   "execution_count": 3,
   "id": "dfbbc1c5-1d3a-4c58-835c-06731476dd1a",
   "metadata": {},
   "outputs": [],
   "source": [
    "# Tworzenie grafu pzrez funkcję\n",
    "def T_pqr(p,q,r):\n",
    "    G = nx.Graph()\n",
    "    for i in range(p+q+r):\n",
    "        G.add_node((i))\n",
    "    for i in range (0, p+1):\n",
    "        G.add_edge(i,i+1)\n",
    "    for i in range (p,p+q):\n",
    "        G.add_edge(i,i+1)\n",
    "    for i in range(p+q+1,p+q+r):\n",
    "        G.add_edge(i,i+1)\n",
    "        G.add_edge(p,p+q+1)\n",
    "    return G"
   ]
  },
  {
   "cell_type": "markdown",
   "id": "5f22c16a-332e-4459-9fec-ce1aee5fa615",
   "metadata": {},
   "source": [
    "### T_pqr DLA UST. p,q,r o skończonych reprezentacjach"
   ]
  },
  {
   "cell_type": "code",
   "execution_count": 4,
   "id": "a370a417-6026-480b-b4e9-01e907a6d780",
   "metadata": {},
   "outputs": [
    {
     "data": {
      "image/png": "[encoded data removed]",
      "text/plain": [
       "<Figure size 640x480 with 1 Axes>"
      ]
     },
     "metadata": {},
     "output_type": "display_data"
    }
   ],
   "source": [
    "E5 = T_pqr(1,1,2)\n",
    "labels = {n: G.nodes[n] for n in G.nodes}\n",
    "nx.draw(E5, with_labels=True, node_size=500, node_color='lightblue', font_weight='bold')\n",
    "plt.show()"
   ]
  },
  {
   "cell_type": "markdown",
   "id": "6ab417f4-e7dc-4965-b3fa-aeac5e784428",
   "metadata": {},
   "source": [
    "##### WAGI WIERZCHOŁKÓW"
   ]
  },
  {
   "cell_type": "code",
   "execution_count": 5,
   "id": "f4668b03-b8db-4ac9-958f-3f0adc641723",
   "metadata": {},
   "outputs": [],
   "source": [
    "def nadawanie_wag(G,  wagi_lista):\n",
    "    for idx, waga in enumerate(wagi_lista):\n",
    "        G.add_node(idx, waga=waga)\n",
    "    \n",
    "    for node, data in G.nodes(data=True):\n",
    "        waga = data['waga']\n",
    "        print(f\"Node {node} ma wage {waga}\")"
   ]
  },
  {
   "cell_type": "markdown",
   "id": "ec74c713-0579-432f-ab9f-26d6c994dca7",
   "metadata": {},
   "source": [
    "### MAPPINGI WIERZCHOŁKÓW"
   ]
  },
  {
   "cell_type": "code",
   "execution_count": 6,
   "id": "8492c0be-c238-4403-88b5-b0e697364cdd",
   "metadata": {},
   "outputs": [
    {
     "name": "stdout",
     "output_type": "stream",
     "text": [
      "Original nodes: [0, 1, 2, 3, 4]\n",
      "Relabeled nodes: [2, 3, 4, 5, 0]\n",
      "Edges in the graph: [(2, 3), (3, 4), (3, 5), (5, 0)]\n"
     ]
    }
   ],
   "source": [
    "mapping = {0: 2, 1: 3, 2: 4, 3: 5, 4: 0}\n",
    "\n",
    "H = nx.relabel_nodes(G, mapping)\n",
    "\n",
    "print(\"Original nodes:\", list(G.nodes()))\n",
    "print(\"Relabeled nodes:\", list(H.nodes()))\n",
    "\n",
    "print(\"Edges in the graph:\", H.edges())\n"
   ]
  },
  {
   "cell_type": "code",
   "execution_count": 7,
   "id": "e13af239-bbc8-4d31-9a3c-225d34c39053",
   "metadata": {},
   "outputs": [
    {
     "data": {
      "text/plain": [
       "{0: 1, 1: 2, 2: 3, 3: 4, 4: 5}"
      ]
     },
     "execution_count": 7,
     "metadata": {},
     "output_type": "execute_result"
    }
   ],
   "source": [
    "#automatyczny mapping dodający do wierzchołka 1\n",
    "def mapping(graph):\n",
    "    mapping = {node: i+1 for i, node in enumerate(graph.nodes())}\n",
    "    return mapping"
   ]
  },
  {
   "cell_type": "code",
   "execution_count": 8,
   "id": "12f2a959-7deb-4a41-8298-a7774758a15e",
   "metadata": {},
   "outputs": [
    {
     "data": {
      "text/plain": [
       "{0: 0, 1: 2, 2: 4, 3: 6, 4: 8}"
      ]
     },
     "execution_count": 8,
     "metadata": {},
     "output_type": "execute_result"
    }
   ],
   "source": [
    "#automatyczny mapping mnożący wierzchołek razy 2\n",
    "def mapping(graph):\n",
    "    mapping = {node: 2*i for i, node in enumerate(graph.nodes())}\n",
    "    return mapping"
   ]
  },
  {
   "cell_type": "markdown",
   "id": "0feb5a11-88ac-40e7-87f0-ecbd9ea39746",
   "metadata": {},
   "source": [
    "### Odbicie"
   ]
  },
  {
   "cell_type": "code",
   "execution_count": 9,
   "id": "da31e779-5236-4a9b-806c-8d02470703a6",
   "metadata": {},
   "outputs": [],
   "source": [
    "def odbicie2(G, node):\n",
    "    neighbors = list(G.neighbors(node))\n",
    "    \n",
    "    nowa_waga1 = - G.nodes[node]['waga']\n",
    "    G.nodes[node]['waga'] = nowa_waga1\n",
    "\n",
    "    for neighbor in neighbors:\n",
    "        nowa_waga = G.nodes[neighbor]['waga'] -  G.nodes[node]['waga']\n",
    "        G.nodes[neighbor]['waga'] = nowa_waga\n",
    "    for node, w in G.nodes(data='waga'):\n",
    "        print(f\" {node} -> {w}\")"
   ]
  },
  {
   "cell_type": "markdown",
   "id": "16b21acf-fd7a-4814-acb3-87970941b6bf",
   "metadata": {},
   "source": [
    "Odbicie do listy"
   ]
  },
  {
   "cell_type": "code",
   "execution_count": 10,
   "id": "d712d72a-8e8c-47e4-82a8-334948fa1dcf",
   "metadata": {},
   "outputs": [],
   "source": [
    "def odbicie(G, node):\n",
    "    nadawanie_wag(G, wagi_lista)\n",
    "    wagi = [] \n",
    "    \n",
    "    neighbors = list(G.neighbors(node))\n",
    "    \n",
    "    nowa_waga1 = - G.nodes[node]['waga']\n",
    "    G.nodes[node]['waga'] = nowa_waga1\n",
    "    \n",
    "    for neighbor in neighbors:\n",
    "        nowa_waga = G.nodes[neighbor]['waga'] -  G.nodes[node]['waga']\n",
    "        G.nodes[neighbor]['waga'] = nowa_waga\n",
    "    for _, w in G.nodes(data='waga'):\n",
    "        wagi.append(w)\n",
    "    return wagi "
   ]
  },
  {
   "cell_type": "markdown",
   "id": "c585b20d-3726-4583-8260-1fff5830dcd5",
   "metadata": {},
   "source": [
    "### ORBITY"
   ]
  },
  {
   "cell_type": "code",
   "execution_count": 12,
   "id": "273ccaad-f3d7-4060-a2e0-c7dd3efdfbec",
   "metadata": {},
   "outputs": [],
   "source": [
    "#### iteruje tak: 0,1,2,3,4,...ostatni_wierzchołek, ,0,1,2,3,4....\n",
    "def autom1(G):\n",
    "    wszystkie_wagi = []\n",
    "    for node in G.nodes():\n",
    "        odbicie(G, node)\n",
    "        node_weights = [G.nodes[node]['waga'] for node in G.nodes()]\n",
    "        wszystkie_wagi.append(node_weights)\n",
    "        #for node, w in G.nodes(data='waga'):\n",
    "         #   print(f\"Wierzchołek {node} has weight: {w}\")\n",
    "            #print(f\"Aplikuję odbicie do wierzchołka:{node}\")\n",
    "        #plt.figure(figsize=(6, 4))\n",
    "        #pos = nx.spring_layout(G) \n",
    "        #nx.draw(G, pos, labels=  node_weights)\n",
    "        #plt.show()\n",
    "        return wszystkie_wagi"
   ]
  },
  {
   "cell_type": "code",
   "execution_count": 13,
   "id": "39d5a104-74c9-4a8e-b333-a11ede162cca",
   "metadata": {},
   "outputs": [],
   "source": [
    "def autom2(G, iterations):\n",
    "    node_weights = []\n",
    "\n",
    "    for _ in range(iterations):\n",
    "        temp_weights = [] \n",
    "        \n",
    "        for node in G.nodes():\n",
    "            odbicie(G, node)\n",
    "            weight = G.nodes[node]['waga']\n",
    "            temp_weights.append(weight)\n",
    "        \n",
    "        node_weights.append(temp_weights) \n",
    "    \n",
    "    return node_weights"
   ]
  },
  {
   "cell_type": "markdown",
   "id": "62328bc9-e69b-463e-908a-961798a87614",
   "metadata": {
    "tags": []
   },
   "source": [
    "### Eliminacja minusów"
   ]
  },
  {
   "cell_type": "code",
   "execution_count": 14,
   "id": "fd97a2dd-44b2-49ff-883e-7681b3aacfd8",
   "metadata": {},
   "outputs": [],
   "source": [
    "def pozytywne(G):\n",
    "    for node, w in G.nodes(data='waga'):\n",
    "        if w is not None and w < 0:\n",
    "            return False\n",
    "    return True"
   ]
  },
  {
   "cell_type": "code",
   "execution_count": 15,
   "id": "c7edae33-fbbd-480e-b161-4678c075ef7e",
   "metadata": {},
   "outputs": [],
   "source": [
    "def ro_1(G):    \n",
    "    for node, data in G.nodes(data='waga'):\n",
    "        G.nodes[node]['waga'] -= 1\n",
    "    for node, w in G.nodes(data='waga'):\n",
    "        print(f\"{node} ->: {w}\")"
   ]
  },
  {
   "cell_type": "code",
   "execution_count": 16,
   "id": "c1445ecb-6d4c-4305-a8ea-462f5d723bea",
   "metadata": {},
   "outputs": [],
   "source": [
    "def zmiana(G):\n",
    "    nodes_z_odbiciem = set()\n",
    "    while not pozytywne(G):\n",
    "        for node, data in G.nodes(data='waga'):\n",
    "            if data < 0:\n",
    "                odbicie(G, node)\n",
    "                nodes_z_odbiciem.add(node)\n",
    "        for node, w in G.nodes(data='waga'):\n",
    "            print(f\"{node} -> {w}\")"
   ]
  },
  {
   "cell_type": "code",
   "execution_count": 17,
   "id": "f1f1ad09-6c30-48f0-92bd-6793c71b5d75",
   "metadata": {},
   "outputs": [],
   "source": [
    "def zmiana(G, count = 0):\n",
    "    nodes_z_odbiciem = list()\n",
    "    wagi = []\n",
    "    while True: \n",
    "        nodes_ujemne = [node for node, data in G.nodes(data='waga') if data < 0]\n",
    "        \n",
    "        if not nodes_ujemne:\n",
    "            break\n",
    "        \n",
    "        for node in nodes_ujemne:\n",
    "            odbicie(G, node)\n",
    "            nodes_z_odbiciem.append(node)\n",
    "            count +=1\n",
    "       # for node, w in G.nodes(data='waga'):\n",
    "       #     print(f\"{node} -> {w}\")\n",
    "    for _, w in G.nodes(data='waga'):\n",
    "        wagi.append(w) \n",
    "    print(f\"Wierzchołki w kolejności wywoływania:\", wagi, nodes_z_odbiciem, count)"
   ]
  },
  {
   "cell_type": "code",
   "execution_count": null,
   "id": "6bf7a722-7a34-4165-a041-add7b873d170",
   "metadata": {},
   "outputs": [],
   "source": [
    "def ro_2(G):\n",
    "    for node, data in G.nodes(data= 'waga'):\n",
    "        G.nodes[node]['waga'] +=1\n",
    "    for node, w in G.nodes(data='waga'):\n",
    "        print(f\"Wierzchołek {node} has weight: {w}\")"
   ]
  },
  {
   "cell_type": "markdown",
   "id": "7ed70278-c61e-4f05-b380-9336ec03fa2c",
   "metadata": {},
   "source": [
    "### Relacje Knutha"
   ]
  },
  {
   "cell_type": "code",
   "execution_count": null,
   "id": "07a4bf29-96ca-4f5a-9272-0a0aae30ef51",
   "metadata": {},
   "outputs": [],
   "source": [
    "def relations(tableau):\n",
    "    rows, cols = tableau.shape\n",
    "    for i in range(rows):\n",
    "        for j in range(cols - 1):\n",
    "            if tableau[i, j] > tableau[i, j + 1]:\n",
    "                tableau[i, j], tableau[i, j + 1] = tableau[i, j + 1], tableau[i, j]\n",
    "\n",
    "    for i in range(rows - 1):\n",
    "        for j in range(cols):\n",
    "            if j == 0 and tableau[i, j] > tableau[i + 1, j]:\n",
    "                tableau[i, j], tableau[i + 1, j] = tableau[i + 1, j], tableau[i, j]\n",
    "            elif tableau[i, j] > tableau[i + 1, j] and tableau[i, j - 1] < tableau[i + 1, j]:\n",
    "                tableau[i, j], tableau[i + 1, j] = tableau[i + 1, j], tableau[i, j]\n",
    "    \n",
    "    return tableau"
   ]
  },
  {
   "cell_type": "markdown",
   "id": "58541ae0-f78e-4099-b78f-2e068287b62d",
   "metadata": {},
   "source": [
    "### Kanoniczne bazy"
   ]
  },
  {
   "cell_type": "code",
   "execution_count": null,
   "id": "c5906088-129e-47d2-97d7-e69fa91e9550",
   "metadata": {},
   "outputs": [],
   "source": [
    "def wiersze_relacje(tableau):\n",
    "    for row in tableau:\n",
    "        for i in range(len(row)-1):\n",
    "            if row[i] > row[i + 1]:\n",
    "                row[i], row[i + 1] = row[i + 1], row[i]\n",
    "    return tableau"
   ]
  },
  {
   "cell_type": "markdown",
   "id": "9ae0a7f9-1217-4bc0-9ae4-188c48fdd02f",
   "metadata": {},
   "source": [
    "# omijanie miejsc minusów"
   ]
  },
  {
   "cell_type": "code",
   "execution_count": null,
   "id": "88625fd6-7d96-4115-9dfb-b6ec6dac42e8",
   "metadata": {},
   "outputs": [],
   "source": []
  }
 ],
 "metadata": {
  "kernelspec": {
   "display_name": "Python 3 (ipykernel)",
   "language": "python",
   "name": "python3"
  },
  "language_info": {
   "codemirror_mode": {
    "name": "ipython",
    "version": 3
   },
   "file_extension": ".py",
   "mimetype": "text/x-python",
   "name": "python",
   "nbconvert_exporter": "python",
   "pygments_lexer": "ipython3",
   "version": "3.9.13"
  }
 },
 "nbformat": 4,
 "nbformat_minor": 5
}
