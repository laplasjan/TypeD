{
 "cells": [
  {
   "cell_type": "code",
   "execution_count": 273,
   "id": "9d8f2277-d6c7-4921-871c-91d4ca825083",
   "metadata": {},
   "outputs": [],
   "source": [
    "import networkx as nx\n",
    "import matplotlib.pyplot as plt\n",
    "import random\n",
    "import numpy as np"
   ]
  },
  {
   "cell_type": "markdown",
   "id": "bb281324-758f-4044-b975-a8a00424ab1b",
   "metadata": {
    "tags": []
   },
   "source": [
    "### T_pqr"
   ]
  },
  {
   "cell_type": "code",
   "execution_count": 297,
   "id": "8330a73e-cfaa-473e-a66e-24d5809956e5",
   "metadata": {},
   "outputs": [],
   "source": [
    "# Tworzenie grafu pzrez funkcję\n",
    "def T_pqr(p,q,r):\n",
    "    G = nx.Graph()\n",
    "    if p> 1 and q>1 and r >1:\n",
    "        for i in range(p+q+r-2):\n",
    "            G.add_node(i, waga=i)\n",
    "        for i in range (0, p-1):\n",
    "            G.add_edge(i,i+1)\n",
    "        for i in range (p,p+q-2):\n",
    "            G.add_edge(i,i+1)\n",
    "            G.add_edge(0,p)\n",
    "        for i in range(p+q-1,p+q+r-3):\n",
    "            G.add_edge(i,i+1)\n",
    "            G.add_edge(0,p+q-1)\n",
    "    if p == 1 or q ==1 or r == 1:\n",
    "        for i in range(p+q+r-2):\n",
    "            G.add_node(i, waga=i)\n",
    "        for i in range (0, p+q+r-3):\n",
    "            G.add_edge(i,i+1)\n",
    "    if p == 2:\n",
    "        for i in range(0,p+q+r-2):\n",
    "            G.add_node(i, waga=i)\n",
    "        for i in range (0, 1):\n",
    "            G.add_edge(i,i+1)\n",
    "        for i in range (2,q):\n",
    "            G.add_edge(i,i+1)\n",
    "            G.add_edge(0,2)\n",
    "        for i in range(q+1,q+r-1):\n",
    "            G.add_edge(i,i+1)\n",
    "            G.add_edge(0,q+1)\n",
    "    if q ==2 :\n",
    "        for i in range(0,p+q+r-2):\n",
    "            G.add_node(i, waga=i)\n",
    "        for i in range (0, p-1):\n",
    "            G.add_edge(i,i+1)\n",
    "            G.add_edge(0,p)\n",
    "        for i in range(p+2,p+q+r-3):\n",
    "            G.add_edge(i,i+1)\n",
    "            G.add_edge(0,p+2)\n",
    "    if r == 2:\n",
    "        for i in range(0,p+q+r-2):\n",
    "            G.add_node(i, waga=i)\n",
    "        for i in range (0, p-1):\n",
    "            G.add_edge(i,i+1)\n",
    "        for i in range (p,p+q-2):\n",
    "            G.add_edge(i,i+1)\n",
    "            G.add_edge(0,p)\n",
    "        G.add_edge(0,p+q-1)\n",
    "    return G"
   ]
  },
  {
   "cell_type": "markdown",
   "id": "5f22c16a-332e-4459-9fec-ce1aee5fa615",
   "metadata": {
    "tags": []
   },
   "source": [
    "### T_pqr DLA UST. p,q,r o skończonych reprezentacjach"
   ]
  },
  {
   "cell_type": "code",
   "execution_count": 301,
   "id": "a370a417-6026-480b-b4e9-01e907a6d780",
   "metadata": {},
   "outputs": [
    {
     "data": {
      "image/png": "[encoded data removed]",
      "text/plain": [
       "<Figure size 640x480 with 1 Axes>"
      ]
     },
     "metadata": {},
     "output_type": "display_data"
    }
   ],
   "source": [
    "D5 = T_pqr(3,3,3)\n",
    "labels = {n: D5.nodes[n] for n in D5.nodes}\n",
    "nx.draw(D5, with_labels=True, node_size=500, node_color='lightblue', font_weight='bold')\n",
    "plt.show()"
   ]
  },
  {
   "cell_type": "markdown",
   "id": "453e1f54-d24d-4abf-9ec8-b70f40f088df",
   "metadata": {},
   "source": [
    "### Przypisywanie wag inicjujących zapis wag"
   ]
  },
  {
   "cell_type": "code",
   "execution_count": 244,
   "id": "d9375cd8-b0fa-4b52-ba1b-5bb0b958b1bd",
   "metadata": {},
   "outputs": [
    {
     "name": "stdout",
     "output_type": "stream",
     "text": [
      "node 0 has weight 0\n",
      "node 1 has weight 1\n",
      "node 2 has weight 2\n",
      "node 3 has weight 3\n",
      "node 4 has weight 4\n",
      "node 5 has weight 5\n",
      "node 6 has weight 6\n"
     ]
    }
   ],
   "source": [
    "nodes = D5.nodes()\n",
    "weights = [0,1,2,3,4,5,6]\n",
    "for node, weight in zip(nodes, weights):\n",
    "    D5.add_node(node, weight=weight)\n",
    "for node, weight in D5.nodes(data = 'weight'):\n",
    "    print(f\"node {node} has weight {weight}\")"
   ]
  },
  {
   "cell_type": "markdown",
   "id": "cff09b9e-be73-42fe-a71d-921850c6d9fe",
   "metadata": {
    "tags": []
   },
   "source": [
    "### WAGI WIERZCHOŁKÓW z listy"
   ]
  },
  {
   "cell_type": "code",
   "execution_count": 245,
   "id": "aba30c3d-e3b8-4a43-862a-8b76e1b6511a",
   "metadata": {},
   "outputs": [],
   "source": [
    "def nadawanie_wag(G, wagi_lista):\n",
    "    wagi = []\n",
    "    for idx, weight in enumerate(wagi_lista):\n",
    "        G.add_node(idx, weight=weight) \n",
    "    for _, w in G.nodes(data='weight'):\n",
    "        wagi.append(w)\n",
    "    return wagi "
   ]
  },
  {
   "cell_type": "code",
   "execution_count": 247,
   "id": "58965794-98b6-44d7-bf62-baede1705245",
   "metadata": {},
   "outputs": [
    {
     "data": {
      "text/plain": [
       "[1, 1, 1, -1, 1, -1, 1]"
      ]
     },
     "execution_count": 247,
     "metadata": {},
     "output_type": "execute_result"
    }
   ],
   "source": [
    "wagi_lista = [1,1,1,-1,1,-1]\n",
    "nadawanie_wag(D5, wagi_lista)"
   ]
  },
  {
   "cell_type": "markdown",
   "id": "16b21acf-fd7a-4814-acb3-87970941b6bf",
   "metadata": {},
   "source": [
    "### Odbicie do listy"
   ]
  },
  {
   "cell_type": "code",
   "execution_count": 253,
   "id": "d712d72a-8e8c-47e4-82a8-334948fa1dcf",
   "metadata": {},
   "outputs": [],
   "source": [
    "def odbicie(G, node):\n",
    "    #jeśli chcesz sprawdzić, czy odbicie działa oraz chcesz mieć wypisane wagi, komenda poniżej to umożliwia:\n",
    "    #print(nadawanie_wag(G, wagi_lista))\n",
    "    \n",
    "    wagi = [] \n",
    "    \n",
    "    neighbors = list(G.neighbors(node))\n",
    "    \n",
    "    nowa_waga1 = - G.nodes[node]['weight']\n",
    "    G.nodes[node]['weight'] = nowa_waga1\n",
    "    \n",
    "    for neighbor in neighbors:\n",
    "        nowa_waga = G.nodes[neighbor]['weight'] -  G.nodes[node]['weight']\n",
    "        G.nodes[neighbor]['weight'] = nowa_waga\n",
    "    for _, w in G.nodes(data='weight'):\n",
    "        wagi.append(w)\n",
    "    return wagi"
   ]
  },
  {
   "cell_type": "code",
   "execution_count": 254,
   "id": "39d621dc-b3a5-408f-9418-2b8378c52d7a",
   "metadata": {},
   "outputs": [
    {
     "data": {
      "text/plain": [
       "[1, 1, 1, -1, 1, -1, 1]"
      ]
     },
     "execution_count": 254,
     "metadata": {},
     "output_type": "execute_result"
    }
   ],
   "source": [
    "odbicie(D5, 1)"
   ]
  },
  {
   "cell_type": "markdown",
   "id": "c585b20d-3726-4583-8260-1fff5830dcd5",
   "metadata": {
    "tags": []
   },
   "source": [
    "### ORBITY - raczej nieprzydatna część kodu\n"
   ]
  },
  {
   "cell_type": "code",
   "execution_count": 14,
   "id": "273ccaad-f3d7-4060-a2e0-c7dd3efdfbec",
   "metadata": {},
   "outputs": [],
   "source": [
    "#### iteruje tak: 0,1,2,3,4,...ostatni_wierzchołek, ,0,1,2,3,4....\n",
    "def autom1(G):\n",
    "    wszystkie_wagi = []\n",
    "    for node in G.nodes():\n",
    "        odbicie(G, node)\n",
    "        node_weights = [G.nodes[node]['weight'] for node in G.nodes()]\n",
    "        wszystkie_wagi.append(node_weights)\n",
    "        #for node, w in G.nodes(data='waga'):\n",
    "         #   print(f\"Wierzchołek {node} has weight: {w}\")\n",
    "            #print(f\"Aplikuję odbicie do wierzchołka:{node}\")\n",
    "        #plt.figure(figsize=(6, 4))\n",
    "        #pos = nx.spring_layout(G) \n",
    "        #nx.draw(G, pos, labels=  node_weights)\n",
    "        #plt.show()\n",
    "        return wszystkie_wagi"
   ]
  },
  {
   "cell_type": "markdown",
   "id": "b4c040c3-414c-4a8e-85eb-0765169e0c52",
   "metadata": {},
   "source": [
    "### Odbijanie z listy"
   ]
  },
  {
   "cell_type": "code",
   "execution_count": 271,
   "id": "560c66de-daa1-47f6-8e1c-b4fe898e2bf2",
   "metadata": {},
   "outputs": [],
   "source": [
    "def odbicia_z_listy(G, lista):\n",
    "    print(nadawanie_wag(G,wagi_lista))\n",
    "    for node in lista:\n",
    "        print(odbicie(G, node))"
   ]
  },
  {
   "cell_type": "code",
   "execution_count": 272,
   "id": "66ff714e-2645-4ef4-a2ad-11dfc987ce64",
   "metadata": {},
   "outputs": [
    {
     "name": "stdout",
     "output_type": "stream",
     "text": [
      "[1, 1, 1, -1, 1, -1, 0]\n",
      "[2, -1, 2, -1, 1, -1, 0]\n",
      "[2, -1, 2, 0, -1, -1, 0]\n",
      "[1, -1, 2, 0, -1, 1, -1]\n",
      "[1, 1, -2, 0, -1, 1, -1]\n"
     ]
    }
   ],
   "source": [
    "odbicia_z_listy(D5, [1,4,5,2])"
   ]
  },
  {
   "cell_type": "code",
   "execution_count": null,
   "id": "7a995687-56a9-4e4d-b97e-a3d9159a41cc",
   "metadata": {},
   "outputs": [],
   "source": []
  },
  {
   "cell_type": "code",
   "execution_count": null,
   "id": "29cf5fdf-342d-4ce7-8b92-157a7c5ae5aa",
   "metadata": {},
   "outputs": [],
   "source": []
  },
  {
   "cell_type": "code",
   "execution_count": null,
   "id": "d36f6aa7-a9c9-4b7e-9b7c-c24cba49e923",
   "metadata": {},
   "outputs": [],
   "source": []
  },
  {
   "cell_type": "code",
   "execution_count": null,
   "id": "068f358b-8cb7-42f5-b83a-054679cb77b5",
   "metadata": {},
   "outputs": [],
   "source": []
  },
  {
   "cell_type": "code",
   "execution_count": null,
   "id": "be58d5e4-0eb6-4cdf-8f2b-8f58a8eeb91f",
   "metadata": {},
   "outputs": [],
   "source": []
  },
  {
   "cell_type": "code",
   "execution_count": null,
   "id": "8fe2e91e-78b6-4627-9aa3-908102657ee6",
   "metadata": {},
   "outputs": [],
   "source": []
  },
  {
   "cell_type": "code",
   "execution_count": null,
   "id": "28dfbd39-2d03-4e8a-8f82-d72854d33041",
   "metadata": {},
   "outputs": [],
   "source": []
  },
  {
   "cell_type": "code",
   "execution_count": null,
   "id": "c0a7520a-d0f0-454c-86d2-2a3417c2bffa",
   "metadata": {},
   "outputs": [],
   "source": []
  },
  {
   "cell_type": "code",
   "execution_count": null,
   "id": "b2fd3cb8-593c-4a2d-9bbf-10e7ee41e732",
   "metadata": {},
   "outputs": [],
   "source": []
  },
  {
   "cell_type": "code",
   "execution_count": null,
   "id": "ec2bee01-e259-4a3c-b257-e2c77e1d817a",
   "metadata": {},
   "outputs": [],
   "source": []
  },
  {
   "cell_type": "code",
   "execution_count": null,
   "id": "e5663fde-a5da-4fb8-a6d1-32f8022f984c",
   "metadata": {},
   "outputs": [],
   "source": []
  },
  {
   "cell_type": "markdown",
   "id": "0632de3d-357c-4b27-956b-45b0d38e7541",
   "metadata": {},
   "source": [
    "### Wersja robocza notatnika"
   ]
  },
  {
   "cell_type": "code",
   "execution_count": null,
   "id": "93e22ee7-29d6-4f09-8cd6-f2e9af32c784",
   "metadata": {},
   "outputs": [],
   "source": []
  },
  {
   "cell_type": "markdown",
   "id": "62328bc9-e69b-463e-908a-961798a87614",
   "metadata": {
    "tags": []
   },
   "source": [
    "### Eliminacja minusów"
   ]
  },
  {
   "cell_type": "code",
   "execution_count": 100,
   "id": "954584ef-085e-411b-9e22-c7956355c60d",
   "metadata": {},
   "outputs": [],
   "source": [
    "def pozytywne(G):\n",
    "    for node, data in G.nodes(data=True):\n",
    "        if data['weight'] is not None and data['weight'] < 0:\n",
    "            return False\n",
    "    return True"
   ]
  },
  {
   "cell_type": "code",
   "execution_count": 101,
   "id": "c7edae33-fbbd-480e-b161-4678c075ef7e",
   "metadata": {},
   "outputs": [],
   "source": [
    "def ro_1(G):    \n",
    "    for node, data in G.nodes(data='weight'):\n",
    "        G.nodes[node]['weight'] -= 1\n",
    "    for node, w in G.nodes(data='weight'):\n",
    "        print(f\"{node} ->: {w}\")"
   ]
  },
  {
   "cell_type": "code",
   "execution_count": 36,
   "id": "f1f1ad09-6c30-48f0-92bd-6793c71b5d75",
   "metadata": {},
   "outputs": [],
   "source": [
    "# nieefektywnie jedzie po ujemnych wierzchołkach\n",
    "def zmiana2(G, count = 0):\n",
    "    nodes_z_odbiciem = []\n",
    "    wagi = []\n",
    "    while True: \n",
    "        nodes_ujemne = [node for node, data in G.nodes(data='weight') if data is not None and data < 0]\n",
    "        for node in nodes_ujemne:\n",
    "            odbicie(G, node)\n",
    "            nodes_z_odbiciem.append(node)\n",
    "            count +=1\n",
    "\n",
    "        if count > 10:\n",
    "            print(\"Maximum number of iterations reached. Exiting loop.\")\n",
    "            break\n",
    "        if not nodes_ujemne:\n",
    "            break\n",
    "    for _, w in G.nodes(data='weight'):\n",
    "        wagi.append(w) \n",
    "    print(f\"Wierzchołki w kolejności wywoływania: {wagi}, {nodes_z_odbiciem}, {count}\")"
   ]
  },
  {
   "cell_type": "code",
   "execution_count": 38,
   "id": "1926411c-53c8-4683-b751-a574a44c7939",
   "metadata": {},
   "outputs": [
    {
     "ename": "KeyboardInterrupt",
     "evalue": "",
     "output_type": "error",
     "traceback": [
      "\u001b[1;31m---------------------------------------------------------------------------\u001b[0m",
      "\u001b[1;31mKeyboardInterrupt\u001b[0m                         Traceback (most recent call last)",
      "\u001b[1;32m~\\AppData\\Local\\Temp\\ipykernel_19108\\628079216.py\u001b[0m in \u001b[0;36m<module>\u001b[1;34m\u001b[0m\n\u001b[1;32m----> 1\u001b[1;33m \u001b[0mzmiana2\u001b[0m\u001b[1;33m(\u001b[0m\u001b[0mD5\u001b[0m\u001b[1;33m,\u001b[0m \u001b[0mcount\u001b[0m \u001b[1;33m=\u001b[0m \u001b[1;36m0\u001b[0m\u001b[1;33m)\u001b[0m\u001b[1;33m\u001b[0m\u001b[1;33m\u001b[0m\u001b[0m\n\u001b[0m",
      "\u001b[1;32m~\\AppData\\Local\\Temp\\ipykernel_19108\\1885527010.py\u001b[0m in \u001b[0;36mzmiana2\u001b[1;34m(G, count)\u001b[0m\n\u001b[0;32m      4\u001b[0m     \u001b[0mwagi\u001b[0m \u001b[1;33m=\u001b[0m \u001b[1;33m[\u001b[0m\u001b[1;33m]\u001b[0m\u001b[1;33m\u001b[0m\u001b[1;33m\u001b[0m\u001b[0m\n\u001b[0;32m      5\u001b[0m     \u001b[1;32mwhile\u001b[0m \u001b[1;32mTrue\u001b[0m\u001b[1;33m:\u001b[0m\u001b[1;33m\u001b[0m\u001b[1;33m\u001b[0m\u001b[0m\n\u001b[1;32m----> 6\u001b[1;33m         \u001b[1;32mfor\u001b[0m \u001b[0mnode\u001b[0m \u001b[1;32min\u001b[0m \u001b[0mG\u001b[0m\u001b[1;33m.\u001b[0m\u001b[0mnodes\u001b[0m\u001b[1;33m(\u001b[0m\u001b[0mdata\u001b[0m\u001b[1;33m=\u001b[0m\u001b[1;32mTrue\u001b[0m\u001b[1;33m)\u001b[0m\u001b[1;33m:\u001b[0m\u001b[1;33m\u001b[0m\u001b[1;33m\u001b[0m\u001b[0m\n\u001b[0m\u001b[0;32m      7\u001b[0m             \u001b[0mnode_id\u001b[0m\u001b[1;33m,\u001b[0m \u001b[0mattributes\u001b[0m \u001b[1;33m=\u001b[0m \u001b[0mnode\u001b[0m\u001b[1;33m\u001b[0m\u001b[1;33m\u001b[0m\u001b[0m\n\u001b[0;32m      8\u001b[0m             \u001b[0mweight\u001b[0m \u001b[1;33m=\u001b[0m \u001b[0mattributes\u001b[0m\u001b[1;33m.\u001b[0m\u001b[0mget\u001b[0m\u001b[1;33m(\u001b[0m\u001b[1;34m'weight'\u001b[0m\u001b[1;33m,\u001b[0m \u001b[0mnode\u001b[0m\u001b[1;33m)\u001b[0m\u001b[1;33m\u001b[0m\u001b[1;33m\u001b[0m\u001b[0m\n",
      "\u001b[1;32m~\\anaconda3\\lib\\site-packages\\networkx\\classes\\reportviews.py\u001b[0m in \u001b[0;36m__call__\u001b[1;34m(self, data, default)\u001b[0m\n\u001b[0;32m    206\u001b[0m         \u001b[1;32mif\u001b[0m \u001b[0mdata\u001b[0m \u001b[1;32mis\u001b[0m \u001b[1;32mFalse\u001b[0m\u001b[1;33m:\u001b[0m\u001b[1;33m\u001b[0m\u001b[1;33m\u001b[0m\u001b[0m\n\u001b[0;32m    207\u001b[0m             \u001b[1;32mreturn\u001b[0m \u001b[0mself\u001b[0m\u001b[1;33m\u001b[0m\u001b[1;33m\u001b[0m\u001b[0m\n\u001b[1;32m--> 208\u001b[1;33m         \u001b[1;32mreturn\u001b[0m \u001b[0mNodeDataView\u001b[0m\u001b[1;33m(\u001b[0m\u001b[0mself\u001b[0m\u001b[1;33m.\u001b[0m\u001b[0m_nodes\u001b[0m\u001b[1;33m,\u001b[0m \u001b[0mdata\u001b[0m\u001b[1;33m,\u001b[0m \u001b[0mdefault\u001b[0m\u001b[1;33m)\u001b[0m\u001b[1;33m\u001b[0m\u001b[1;33m\u001b[0m\u001b[0m\n\u001b[0m\u001b[0;32m    209\u001b[0m \u001b[1;33m\u001b[0m\u001b[0m\n\u001b[0;32m    210\u001b[0m     \u001b[1;32mdef\u001b[0m \u001b[0mdata\u001b[0m\u001b[1;33m(\u001b[0m\u001b[0mself\u001b[0m\u001b[1;33m,\u001b[0m \u001b[0mdata\u001b[0m\u001b[1;33m=\u001b[0m\u001b[1;32mTrue\u001b[0m\u001b[1;33m,\u001b[0m \u001b[0mdefault\u001b[0m\u001b[1;33m=\u001b[0m\u001b[1;32mNone\u001b[0m\u001b[1;33m)\u001b[0m\u001b[1;33m:\u001b[0m\u001b[1;33m\u001b[0m\u001b[1;33m\u001b[0m\u001b[0m\n",
      "\u001b[1;31mKeyboardInterrupt\u001b[0m: "
     ]
    }
   ],
   "source": [
    "zmiana2(D5, count = 0)"
   ]
  },
  {
   "cell_type": "code",
   "execution_count": 290,
   "id": "0dfc377e-c090-4d9a-871e-40b07c0306f1",
   "metadata": {},
   "outputs": [],
   "source": [
    "# jedzie tak: 0,1,2,...,0,1,2,... az do 10ciu odbić\n",
    "def zmiana3(G, count=0):\n",
    "    nodes_z_odbiciem = list()\n",
    "    wagi = []\n",
    "\n",
    "    while True:\n",
    "        nodes_ujemne = [node for node, data in G.nodes(data='weight') if data < 0]\n",
    "\n",
    "        for node in G.nodes():\n",
    "            odbicie(G, node)\n",
    "            nodes_z_odbiciem.append(node)\n",
    "            count += 1\n",
    "\n",
    "        if count > 10:\n",
    "            print(\"Maximum number of iterations reached. Exiting loop.\")\n",
    "            break\n",
    "        \n",
    "        if not nodes_ujemne:\n",
    "            break\n",
    "            \n",
    "    for _, w in G.nodes(data='weight'):\n",
    "        wagi.append(w)\n",
    "\n",
    "    print(\"Wierzchołki w kolejności wywoływania:\", nodes_z_odbiciem, wagi, count)\n"
   ]
  },
  {
   "cell_type": "code",
   "execution_count": 261,
   "id": "c2fa3dba-94c3-4b3d-871f-9e9a99ef8b97",
   "metadata": {},
   "outputs": [
    {
     "name": "stdout",
     "output_type": "stream",
     "text": [
      "Maximum number of iterations reached. Exiting loop.\n",
      "Wierzchołki w kolejności wywoływania: [0, 1, 2, 3, 4, 5, 6, 0, 1, 2, 3, 4, 5, 6] [1, 1, 1, -1, 1, 0, -1] 14\n"
     ]
    }
   ],
   "source": [
    "zmiana3(D5, count = 0)"
   ]
  },
  {
   "cell_type": "code",
   "execution_count": 116,
   "id": "199ba9fd-3cb3-46b5-86cd-b0900a94d51c",
   "metadata": {},
   "outputs": [],
   "source": [
    "def zmiana4(G, wagi_lista, node_order=None, max_iterations=10):\n",
    "    nodes_z_odbiciem = list()\n",
    "    wagi = []\n",
    "    count = 0\n",
    "    while True:\n",
    "        nodes_ujemne = [node for node, data in G.nodes(data='weight') if data < 0]\n",
    "\n",
    "        if node_order is None:\n",
    "            nodes_to_process = G.nodes()\n",
    "        else:\n",
    "            nodes_to_process = node_order\n",
    "\n",
    "        for node in nodes_to_process:\n",
    "            print(odbicie(G, node))\n",
    "            nodes_z_odbiciem.append(node)\n",
    "            count += 1\n",
    "\n",
    "        if count > max_iterations:\n",
    "            print(\"Maximum number of iterations reached. Exiting loop.\")\n",
    "            break\n",
    "\n",
    "        if not nodes_ujemne:\n",
    "            break\n",
    "\n",
    "   # for node, data in G.nodes(data='weight'):\n",
    "   #     wagi.append(data['weight'])\n",
    "\n",
    "    #print(\"Wierzchołki w kolejności wywoływania:\" wagi, nodes_z_odbiciem, count)"
   ]
  },
  {
   "cell_type": "code",
   "execution_count": 117,
   "id": "3dc6ba4c-91da-4c78-b097-ffa8a922945b",
   "metadata": {},
   "outputs": [
    {
     "name": "stdout",
     "output_type": "stream",
     "text": [
      "[2, -1, -1, 0, 1, -1, 1]\n",
      "[1, 1, -1, 0, 1, -1, 1]\n",
      "[1, 1, -1, 0, 1, -1, 1]\n",
      "[-1, 2, 0, 0, 2, -1, 1]\n",
      "[1, 2, 0, 0, -2, 1, 1]\n",
      "[1, 2, 0, 0, -2, 2, -1]\n",
      "[1, 2, 0, 0, 0, -2, 1]\n",
      "[1, 2, 0, 0, 0, -2, 1]\n",
      "[3, -2, 0, 0, 0, -2, 1]\n",
      "[3, -2, 0, 0, 0, -2, 1]\n",
      "[-3, 1, 3, 0, 3, -2, 1]\n",
      "[0, 1, 3, 0, -3, 1, 1]\n",
      "[0, 1, 3, 0, -3, 2, -1]\n",
      "[0, 1, 3, 0, -1, -2, 1]\n",
      "Maximum number of iterations reached. Exiting loop.\n"
     ]
    }
   ],
   "source": [
    "node_order = [2, 1, 3, 0, 4, 6, 5]\n",
    "\n",
    "zmiana4(D5, wagi_lista, node_order)\n"
   ]
  },
  {
   "cell_type": "code",
   "execution_count": 264,
   "id": "6bf7a722-7a34-4165-a041-add7b873d170",
   "metadata": {},
   "outputs": [],
   "source": [
    "def ro_2(G):\n",
    "    for node, data in G.nodes(data= 'weight'):\n",
    "        G.nodes[node]['weight'] +=1\n",
    "    for node, w in G.nodes(data='weight'):\n",
    "        print(f\"Wierzchołek {node} has weight: {w}\")"
   ]
  },
  {
   "cell_type": "markdown",
   "id": "7ed70278-c61e-4f05-b380-9336ec03fa2c",
   "metadata": {
    "jp-MarkdownHeadingCollapsed": true,
    "tags": []
   },
   "source": [
    "### Relacje Knutha"
   ]
  },
  {
   "cell_type": "code",
   "execution_count": 81,
   "id": "07a4bf29-96ca-4f5a-9272-0a0aae30ef51",
   "metadata": {},
   "outputs": [],
   "source": [
    "def relations(tableau):\n",
    "    rows, cols = tableau.shape\n",
    "    for i in range(rows):\n",
    "        for j in range(cols - 1):\n",
    "            if tableau[i, j] > tableau[i, j + 1]:\n",
    "                tableau[i, j], tableau[i, j + 1] = tableau[i, j + 1], tableau[i, j]\n",
    "\n",
    "    for i in range(rows - 1):\n",
    "        for j in range(cols):\n",
    "            if j == 0 and tableau[i, j] > tableau[i + 1, j]:\n",
    "                tableau[i, j], tableau[i + 1, j] = tableau[i + 1, j], tableau[i, j]\n",
    "            elif tableau[i, j] > tableau[i + 1, j] and tableau[i, j - 1] < tableau[i + 1, j]:\n",
    "                tableau[i, j], tableau[i + 1, j] = tableau[i + 1, j], tableau[i, j]\n",
    "    \n",
    "    return tableau"
   ]
  },
  {
   "cell_type": "markdown",
   "id": "58541ae0-f78e-4099-b78f-2e068287b62d",
   "metadata": {
    "jp-MarkdownHeadingCollapsed": true,
    "tags": []
   },
   "source": [
    "### Kanoniczne bazy"
   ]
  },
  {
   "cell_type": "code",
   "execution_count": 82,
   "id": "c5906088-129e-47d2-97d7-e69fa91e9550",
   "metadata": {},
   "outputs": [],
   "source": [
    "def wiersze_relacje(tableau):\n",
    "    for row in tableau:\n",
    "        for i in range(len(row)-1):\n",
    "            if row[i] > row[i + 1]:\n",
    "                row[i], row[i + 1] = row[i + 1], row[i]\n",
    "    return tableau"
   ]
  },
  {
   "cell_type": "markdown",
   "id": "27facdc3-da8d-4741-abdc-9a572935a1e7",
   "metadata": {
    "tags": []
   },
   "source": [
    "### Eliminacja plusów"
   ]
  },
  {
   "cell_type": "code",
   "execution_count": 96,
   "id": "77980bf7-e75f-49a6-a411-f8e8b9a5b6c5",
   "metadata": {},
   "outputs": [],
   "source": [
    "def ujemne(G):\n",
    "    for node, w in G.nodes(data='weight'):\n",
    "        if w is not None and w > 0:\n",
    "            return False\n",
    "    return True"
   ]
  },
  {
   "cell_type": "code",
   "execution_count": 97,
   "id": "c2cc92b7-6263-4637-8b72-ef6c6ba07c81",
   "metadata": {},
   "outputs": [],
   "source": [
    "def zmiana5(G, count = 0):\n",
    "    nodes_z_odbiciem = list()\n",
    "    wagi = []\n",
    "    while True: \n",
    "        nodes_dod = [node for node, data in G.nodes(data='weight') if data > 0]\n",
    "        \n",
    "        if not nodes_dod:\n",
    "            break\n",
    "        \n",
    "        for node in nodes_dod:\n",
    "            odbicie(G, node)\n",
    "            nodes_z_odbiciem.append(node)\n",
    "            count +=1\n",
    "       # for node, w in G.nodes(data='waga'):\n",
    "       #     print(f\"{node} -> {w}\")\n",
    "    for _, w in G.nodes(data='weight'):\n",
    "        wagi.append(w) \n",
    "    print(f\"Wierzchołki w kolejności wywoływania:\", wagi, nodes_z_odbiciem, count)"
   ]
  },
  {
   "cell_type": "markdown",
   "id": "9ae0a7f9-1217-4bc0-9ae4-188c48fdd02f",
   "metadata": {},
   "source": [
    "# omijanie miejsc minusów"
   ]
  },
  {
   "cell_type": "code",
   "execution_count": 98,
   "id": "88625fd6-7d96-4115-9dfb-b6ec6dac42e8",
   "metadata": {},
   "outputs": [
    {
     "ename": "TypeError",
     "evalue": "odbicie() missing 1 required positional argument: 'wagi_lista'",
     "output_type": "error",
     "traceback": [
      "\u001b[1;31m---------------------------------------------------------------------------\u001b[0m",
      "\u001b[1;31mTypeError\u001b[0m                                 Traceback (most recent call last)",
      "\u001b[1;32m~\\AppData\\Local\\Temp\\ipykernel_10832\\358224749.py\u001b[0m in \u001b[0;36m<module>\u001b[1;34m\u001b[0m\n\u001b[1;32m----> 1\u001b[1;33m \u001b[0mzmiana4\u001b[0m\u001b[1;33m(\u001b[0m\u001b[0mD5\u001b[0m\u001b[1;33m,\u001b[0m \u001b[0mcount\u001b[0m \u001b[1;33m=\u001b[0m \u001b[1;36m0\u001b[0m\u001b[1;33m)\u001b[0m\u001b[1;33m\u001b[0m\u001b[1;33m\u001b[0m\u001b[0m\n\u001b[0m",
      "\u001b[1;32m~\\AppData\\Local\\Temp\\ipykernel_10832\\1513005601.py\u001b[0m in \u001b[0;36mzmiana4\u001b[1;34m(G, count)\u001b[0m\n\u001b[0;32m      9\u001b[0m \u001b[1;33m\u001b[0m\u001b[0m\n\u001b[0;32m     10\u001b[0m         \u001b[1;32mfor\u001b[0m \u001b[0mnode\u001b[0m \u001b[1;32min\u001b[0m \u001b[0mnodes_dod\u001b[0m\u001b[1;33m:\u001b[0m\u001b[1;33m\u001b[0m\u001b[1;33m\u001b[0m\u001b[0m\n\u001b[1;32m---> 11\u001b[1;33m             \u001b[0modbicie\u001b[0m\u001b[1;33m(\u001b[0m\u001b[0mG\u001b[0m\u001b[1;33m,\u001b[0m \u001b[0mnode\u001b[0m\u001b[1;33m)\u001b[0m\u001b[1;33m\u001b[0m\u001b[1;33m\u001b[0m\u001b[0m\n\u001b[0m\u001b[0;32m     12\u001b[0m             \u001b[0mnodes_z_odbiciem\u001b[0m\u001b[1;33m.\u001b[0m\u001b[0mappend\u001b[0m\u001b[1;33m(\u001b[0m\u001b[0mnode\u001b[0m\u001b[1;33m)\u001b[0m\u001b[1;33m\u001b[0m\u001b[1;33m\u001b[0m\u001b[0m\n\u001b[0;32m     13\u001b[0m             \u001b[0mcount\u001b[0m \u001b[1;33m+=\u001b[0m\u001b[1;36m1\u001b[0m\u001b[1;33m\u001b[0m\u001b[1;33m\u001b[0m\u001b[0m\n",
      "\u001b[1;31mTypeError\u001b[0m: odbicie() missing 1 required positional argument: 'wagi_lista'"
     ]
    }
   ],
   "source": [
    "zmiana4(D5, count = 0)"
   ]
  },
  {
   "cell_type": "code",
   "execution_count": null,
   "id": "83be7add-2807-4581-9ed6-b166f50f5135",
   "metadata": {},
   "outputs": [],
   "source": []
  }
 ],
 "metadata": {
  "kernelspec": {
   "display_name": "Python 3 (ipykernel)",
   "language": "python",
   "name": "python3"
  },
  "language_info": {
   "codemirror_mode": {
    "name": "ipython",
    "version": 3
   },
   "file_extension": ".py",
   "mimetype": "text/x-python",
   "name": "python",
   "nbconvert_exporter": "python",
   "pygments_lexer": "ipython3",
   "version": "3.9.13"
  }
 },
 "nbformat": 4,
 "nbformat_minor": 5
}
