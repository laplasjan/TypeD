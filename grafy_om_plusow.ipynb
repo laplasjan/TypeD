{
 "cells": [
  {
   "cell_type": "code",
   "execution_count": null,
   "id": "045c103d-101a-48a2-8a7a-cfb8fc4a358f",
   "metadata": {},
   "outputs": [],
   "source": [
    "### Proszę zrunować ten notatnik a na dole jest komander, który automatycznie\n",
    "# wykona procedury"
   ]
  },
  {
   "cell_type": "code",
   "execution_count": 33,
   "id": "9d8f2277-d6c7-4921-871c-91d4ca825083",
   "metadata": {},
   "outputs": [],
   "source": [
    "import networkx as nx\n",
    "import matplotlib.pyplot as plt"
   ]
  },
  {
   "cell_type": "markdown",
   "id": "bb281324-758f-4044-b975-a8a00424ab1b",
   "metadata": {
    "tags": []
   },
   "source": [
    "### T_pqr"
   ]
  },
  {
   "cell_type": "code",
   "execution_count": 34,
   "id": "8330a73e-cfaa-473e-a66e-24d5809956e5",
   "metadata": {},
   "outputs": [],
   "source": [
    "# Tworzenie grafu pzrez funkcję\n",
    "def T_pqr(p,q,r):\n",
    "    G = nx.Graph()\n",
    "    if p> 1 and q>1 and r >1:\n",
    "        for i in range(p+q+r-2):\n",
    "            G.add_node(i, waga=i)\n",
    "        for i in range (0, p-1):\n",
    "            G.add_edge(i,i+1)\n",
    "        for i in range (p,p+q-2):\n",
    "            G.add_edge(i,i+1)\n",
    "            G.add_edge(0,p)\n",
    "        for i in range(p+q-1,p+q+r-3):\n",
    "            G.add_edge(i,i+1)\n",
    "            G.add_edge(0,p+q-1)\n",
    "    if p == 1 or q ==1 or r == 1:\n",
    "        for i in range(p+q+r-2):\n",
    "            G.add_node(i, waga=i)\n",
    "        for i in range (0, p+q+r-3):\n",
    "            G.add_edge(i,i+1)\n",
    "    if p == 2:\n",
    "        for i in range(0,p+q+r-2):\n",
    "            G.add_node(i, waga=i)\n",
    "        for i in range (0, 1):\n",
    "            G.add_edge(i,i+1)\n",
    "        for i in range (2,q):\n",
    "            G.add_edge(i,i+1)\n",
    "            G.add_edge(0,2)\n",
    "        for i in range(q+1,q+r-1):\n",
    "            G.add_edge(i,i+1)\n",
    "            G.add_edge(0,q+1)\n",
    "    if q ==2 :\n",
    "        for i in range(0,p+q+r-2):\n",
    "            G.add_node(i, waga=i)\n",
    "        for i in range (0, p-1):\n",
    "            G.add_edge(i,i+1)\n",
    "            G.add_edge(0,p)\n",
    "        for i in range(p+2,p+q+r-3):\n",
    "            G.add_edge(i,i+1)\n",
    "            G.add_edge(0,p+2)\n",
    "    if r == 2:\n",
    "        for i in range(0,p+q+r-2):\n",
    "            G.add_node(i, waga=i)\n",
    "        for i in range (0, p-1):\n",
    "            G.add_edge(i,i+1)\n",
    "        for i in range (p,p+q-2):\n",
    "            G.add_edge(i,i+1)\n",
    "            G.add_edge(0,p)\n",
    "        G.add_edge(0,p+q-1)\n",
    "    return G"
   ]
  },
  {
   "cell_type": "markdown",
   "id": "5f22c16a-332e-4459-9fec-ce1aee5fa615",
   "metadata": {
    "tags": []
   },
   "source": [
    "### T_pqr DLA UST. p,q,r o skończonych reprezentacjach"
   ]
  },
  {
   "cell_type": "code",
   "execution_count": 35,
   "id": "a370a417-6026-480b-b4e9-01e907a6d780",
   "metadata": {},
   "outputs": [
    {
     "data": {
      "image/png": "[encoded data removed]",
      "text/plain": [
       "<Figure size 640x480 with 1 Axes>"
      ]
     },
     "metadata": {},
     "output_type": "display_data"
    }
   ],
   "source": [
    "D5 = T_pqr(2,2,2)\n",
    "labels = {n: D5.nodes[n] for n in D5.nodes}\n",
    "nx.draw(D5, with_labels=True, node_size=500, node_color='lightblue', font_weight='bold')\n",
    "plt.show()"
   ]
  },
  {
   "cell_type": "markdown",
   "id": "cff09b9e-be73-42fe-a71d-921850c6d9fe",
   "metadata": {
    "tags": []
   },
   "source": [
    "### WAGI WIERZCHOŁKÓW z listy"
   ]
  },
  {
   "cell_type": "code",
   "execution_count": 36,
   "id": "5d25891a-1e6f-4fc4-8d5e-b119006660c3",
   "metadata": {},
   "outputs": [
    {
     "name": "stdout",
     "output_type": "stream",
     "text": [
      "node 0 has weight 1\n",
      "node 1 has weight 1\n",
      "node 2 has weight 2\n",
      "node 3 has weight 0\n"
     ]
    }
   ],
   "source": [
    "nodes = D5.nodes()\n",
    "weights = [1,1,2,0]\n",
    "for node, weight in zip(nodes, weights):\n",
    "    D5.add_node(node, weight=weight)\n",
    "for node, weight in D5.nodes(data = 'weight'):\n",
    "    print(f\"node {node} has weight {weight}\")"
   ]
  },
  {
   "cell_type": "code",
   "execution_count": 37,
   "id": "aba30c3d-e3b8-4a43-862a-8b76e1b6511a",
   "metadata": {},
   "outputs": [],
   "source": [
    "def nadawanie_wag(G, wagi_lista):\n",
    "    wagi = []\n",
    "    for idx, weight in enumerate(wagi_lista):\n",
    "        G.add_node(idx, weight=weight) \n",
    "    for _, w in G.nodes(data='weight'):\n",
    "        wagi.append(w)\n",
    "    return wagi "
   ]
  },
  {
   "cell_type": "markdown",
   "id": "16b21acf-fd7a-4814-acb3-87970941b6bf",
   "metadata": {},
   "source": [
    "### Odbicie do listy"
   ]
  },
  {
   "cell_type": "code",
   "execution_count": 38,
   "id": "d712d72a-8e8c-47e4-82a8-334948fa1dcf",
   "metadata": {},
   "outputs": [],
   "source": [
    "def odbicie(G, node):\n",
    "    #jeśli chcesz sprawdzić, czy odbicie działa oraz chcesz mieć wypisane wagi, komenda poniżej to umożliwia:\n",
    "    #print(nadawanie_wag(G, wagi_lista))\n",
    "    \n",
    "    wagi = [] \n",
    "    \n",
    "    neighbors = list(G.neighbors(node))\n",
    "    \n",
    "    nowa_waga1 = - G.nodes[node]['weight']\n",
    "    G.nodes[node]['weight'] = nowa_waga1\n",
    "    \n",
    "    for neighbor in neighbors:\n",
    "        nowa_waga = G.nodes[neighbor]['weight'] -  G.nodes[node]['weight']\n",
    "        G.nodes[neighbor]['weight'] = nowa_waga\n",
    "    for _, w in G.nodes(data='weight'):\n",
    "        wagi.append(w)\n",
    "    return wagi"
   ]
  },
  {
   "cell_type": "code",
   "execution_count": null,
   "id": "00808f4b",
   "metadata": {
    "tags": []
   },
   "outputs": [],
   "source": []
  },
  {
   "cell_type": "code",
   "execution_count": 39,
   "id": "d187acde-f613-4a61-a09c-f234e515c127",
   "metadata": {},
   "outputs": [],
   "source": [
    "def ro_1(G):    \n",
    "    weights = []\n",
    "    for node in G.nodes():\n",
    "        G.nodes[node]['weight'] -= 1\n",
    "        weights.append( G.nodes[node]['weight'])\n",
    "    return weights"
   ]
  },
  {
   "cell_type": "code",
   "execution_count": 40,
   "id": "77980bf7-e75f-49a6-a411-f8e8b9a5b6c5",
   "metadata": {},
   "outputs": [],
   "source": [
    "def ujemne(G):\n",
    "    for node, w in G.nodes(data='weight'):\n",
    "        if w is not None and w > 0:\n",
    "            return False\n",
    "    return True"
   ]
  },
  {
   "cell_type": "code",
   "execution_count": 41,
   "id": "1e3d1e07-b16f-4494-bbab-ccdc244936dd",
   "metadata": {},
   "outputs": [],
   "source": [
    "def ro_2(G):\n",
    "    weights = []\n",
    "    for node in G.nodes():\n",
    "        G.nodes[node]['weight'] += 1\n",
    "        weights.append( G.nodes[node]['weight'])\n",
    "   # for _, w in G.nodes(data='weight'):\n",
    "    #    wagi.append(w)\n",
    "    print(f\"Wagi po zastosowaniu operacji ro  {weights}\")\n"
   ]
  },
  {
   "cell_type": "code",
   "execution_count": 44,
   "id": "522fd71a",
   "metadata": {},
   "outputs": [],
   "source": [
    "def omijanie_dodatnich(G, lista, count=0):\n",
    "    nodes_z_odbiciem = []\n",
    "    wagi = []\n",
    "    Y = lista\n",
    "    while ujemne(G) is True:\n",
    "        nodes_dodatnie = [node for node, data in G.nodes(data='weight') if (data is not None and data > 0 and node not in Y)]\n",
    "        if not nodes_dodatnie:\n",
    "            break \n",
    "        for node in nodes_dodatnie:\n",
    "            odbicie(G, node)  \n",
    "            nodes_z_odbiciem.append(node)\n",
    "            count += 1\n",
    "            if count > 10000000:  \n",
    "                print(\"Maximum number of iterations reached. Exiting loop.\")\n",
    "                break\n",
    "    for _, w in G.nodes(data='weight'):\n",
    "        wagi.append(w)\n",
    "    print(f\"Wierzchołki w kolejności wywoływania:  {nodes_z_odbiciem}, wagi na końcu: {wagi}, count:  {count}\")\n"
   ]
  },
  {
   "cell_type": "markdown",
   "id": "675befd1-281f-4c86-8517-eb1febf6b3d6",
   "metadata": {},
   "source": [
    "### Do komandera"
   ]
  },
  {
   "cell_type": "code",
   "execution_count": 48,
   "id": "19de8226-fd3c-499a-b792-929421eacd32",
   "metadata": {},
   "outputs": [
    {
     "name": "stdout",
     "output_type": "stream",
     "text": [
      "Podaj wartość dla p: 2\n",
      "Podaj wartość dla q: 2\n",
      "Podaj wartość dla r: 2\n",
      "Podaj wartości wag jako listę oddzieloną przecinkami: 1,2,-3,-4\n",
      "Podaj wierzchołki do omijania jako listę oddzieloną przecinkami: 0,2\n",
      "Wierzchołki w kolejności wywoływania:  [], wagi na końcu: [0, 1, -4, -5], count:  0\n",
      "Wagi po zastosowaniu operacji ro  [1, 2, -3, -4]\n"
     ]
    }
   ],
   "source": [
    "def main(p, q, r, G, wagi_lista, lista):\n",
    "    p = int(p)\n",
    "    q = int(q)\n",
    "    r = int(r)\n",
    "    G = T_pqr(p, q, r)\n",
    "    wagi_lista = [int(waga) for waga in wagi_lista] \n",
    "    nadawanie_wag(G, wagi_lista)\n",
    "    ujemne(G)\n",
    "    ro_1(G)\n",
    "    omijanie_dodatnich(G, lista, count=0)\n",
    "    ro_2(G)\n",
    "\n",
    "if __name__ == \"__main__\":\n",
    "    p = int(input(\"Podaj wartość dla p: \"))\n",
    "    q = int(input(\"Podaj wartość dla q: \"))\n",
    "    r = int(input(\"Podaj wartość dla r: \"))\n",
    "    wagi_lista = input(\"Podaj wartości wag jako listę oddzieloną przecinkami: \").split(\",\")\n",
    "    lista = input(\"Podaj wierzchołki do omijania jako listę oddzieloną przecinkami: \").split(\",\")\n",
    "    G = T_pqr(p, q, r)\n",
    "    main(p, q, r, G, wagi_lista, lista)"
   ]
  },
  {
   "cell_type": "code",
   "execution_count": null,
   "id": "f9b354cd-ec69-4ad6-8351-7cc167c88876",
   "metadata": {},
   "outputs": [],
   "source": []
  }
 ],
 "metadata": {
  "kernelspec": {
   "display_name": "Python 3 (ipykernel)",
   "language": "python",
   "name": "python3"
  },
  "language_info": {
   "codemirror_mode": {
    "name": "ipython",
    "version": 3
   },
   "file_extension": ".py",
   "mimetype": "text/x-python",
   "name": "python",
   "nbconvert_exporter": "python",
   "pygments_lexer": "ipython3",
   "version": "3.9.13"
  }
 },
 "nbformat": 4,
 "nbformat_minor": 5
}
