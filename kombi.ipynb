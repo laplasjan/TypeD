{
 "cells": [
  {
   "cell_type": "code",
   "execution_count": 58,
   "id": "dd904401-2729-4f67-935b-c6f50b2d0425",
   "metadata": {},
   "outputs": [],
   "source": [
    "import itertools as it\n",
    "import numpy as np\n",
    "import networkx as nx"
   ]
  },
  {
   "cell_type": "code",
   "execution_count": 59,
   "id": "35f7c0fb",
   "metadata": {},
   "outputs": [],
   "source": [
    "def T_pqr(p,q,r):\n",
    "    G = nx.Graph()\n",
    "    if p> 1 and q>1 and r >1:\n",
    "        for i in range(p+q+r-2):\n",
    "            G.add_node(i, waga=i)\n",
    "        for i in range (0, p-1):\n",
    "            G.add_edge(i,i+1)\n",
    "        for i in range (p,p+q-2):\n",
    "            G.add_edge(i,i+1)\n",
    "            G.add_edge(0,p)\n",
    "        for i in range(p+q-1,p+q+r-3):\n",
    "            G.add_edge(i,i+1)\n",
    "            G.add_edge(0,p+q-1)\n",
    "    if p == 1 or q ==1 or r == 1:\n",
    "        for i in range(p+q+r-2):\n",
    "            G.add_node(i, waga=i)\n",
    "        for i in range (0, p+q+r-3):\n",
    "            G.add_edge(i,i+1)\n",
    "    if p == 2:\n",
    "        for i in range(0,p+q+r-2):\n",
    "            G.add_node(i, waga=i)\n",
    "        for i in range (0, 1):\n",
    "            G.add_edge(i,i+1)\n",
    "        for i in range (2,q):\n",
    "            G.add_edge(i,i+1)\n",
    "            G.add_edge(0,2)\n",
    "        for i in range(q+1,q+r-1):\n",
    "            G.add_edge(i,i+1)\n",
    "            G.add_edge(0,q+1)\n",
    "    if q ==2 :\n",
    "        for i in range(0,p+q+r-2):\n",
    "            G.add_node(i, waga=i)\n",
    "        for i in range (0, p-1):\n",
    "            G.add_edge(i,i+1)\n",
    "            G.add_edge(0,p)\n",
    "        for i in range(p+2,p+q+r-3):\n",
    "            G.add_edge(i,i+1)\n",
    "            G.add_edge(0,p+2)\n",
    "    if r == 2:\n",
    "        for i in range(0,p+q+r-2):\n",
    "            G.add_node(i, waga=i)\n",
    "        for i in range (0, p-1):\n",
    "            G.add_edge(i,i+1)\n",
    "        for i in range (p,p+q-2):\n",
    "            G.add_edge(i,i+1)\n",
    "            G.add_edge(0,p)\n",
    "        G.add_edge(0,p+q-1)\n",
    "    return G"
   ]
  },
  {
   "cell_type": "code",
   "execution_count": 60,
   "id": "3d010801-5de1-42a2-890d-b44d843f190d",
   "metadata": {},
   "outputs": [],
   "source": [
    "def symetryczna(A, k):\n",
    "    \n",
    "    max_len = max(len(sublist) for sublist in A)\n",
    "    zewn = []\n",
    "    \n",
    "    for kombinacja in it.combinations_with_replacement(range(len(A)), k):\n",
    "        summed_sublist = []\n",
    "        for j in range(max_len):\n",
    "            sublist_sum = sum(A[i][j] if j < len(A[i]) else 0 for i in kombinacja)\n",
    "            summed_sublist.append(sublist_sum)\n",
    "        zewn.append(summed_sublist)\n",
    "    return zewn"
   ]
  },
  {
   "cell_type": "code",
   "execution_count": 62,
   "id": "080fdd2d",
   "metadata": {},
   "outputs": [],
   "source": [
    "def zewnetrzna(A, k):\n",
    "    \n",
    "    max_len = max(len(sublist) for sublist in A)\n",
    "    zewn = []\n",
    "    \n",
    "    for kombinacja in it.combinations(range(len(A)), k):\n",
    "        summed_sublist = []\n",
    "        for j in range(max_len):\n",
    "            sublist_sum = sum(A[i][j] if j < len(A[i]) else 0 for i in kombinacja)\n",
    "            summed_sublist.append(sublist_sum)\n",
    "        zewn.append(summed_sublist)\n",
    "    return zewn"
   ]
  },
  {
   "cell_type": "code",
   "execution_count": 64,
   "id": "62f36f6d-30d6-4b2c-b9b0-bf0b8205d586",
   "metadata": {},
   "outputs": [],
   "source": [
    "D3= T_pqr(2,2,2)\n",
    "D1= T_pqr(2,2,1)\n",
    "D5= T_pqr(2,2,3)"
   ]
  },
  {
   "cell_type": "code",
   "execution_count": 65,
   "id": "46e77db0-2ab8-4893-ba33-44e2cf25cf7e",
   "metadata": {},
   "outputs": [],
   "source": [
    "def nadawanie_wag(graph, n, wagi_macierz):\n",
    "    wagi_wszystkie = []\n",
    "    graphs = [graph for _ in range(n)]\n",
    "    for G, row in zip(graphs, wagi_macierz):\n",
    "        wagi = []\n",
    "        for i, weight in enumerate(row):\n",
    "            G.add_node(i, weight=weight)\n",
    "            wagi.append(weight)\n",
    "        wagi_wszystkie.append(wagi)\n",
    "    return wagi_wszystkie"
   ]
  },
  {
   "cell_type": "code",
   "execution_count": 68,
   "id": "3dfc2e6e-7883-4108-9f1c-67f96e408d88",
   "metadata": {},
   "outputs": [],
   "source": [
    "def nadawanie_wag(graph, n, wagi_macierz):\n",
    "    wagi_wszystkie = []\n",
    "    graphs = [graph for _ in range(n)]\n",
    "    for G, row in zip(graphs, wagi_macierz):\n",
    "        wagi = []\n",
    "        for i, weight in enumerate(row):\n",
    "            G.add_node(i, weight=weight)\n",
    "            wagi.append(weight)\n",
    "        wagi_wszystkie.append(wagi)\n",
    "    return wagi_wszystkie"
   ]
  },
  {
   "cell_type": "code",
   "execution_count": 69,
   "id": "59d5c644-b00f-4204-a988-981f809a9b93",
   "metadata": {},
   "outputs": [],
   "source": [
    "def odbicie(G, node):\n",
    "    wagi = [] \n",
    "    \n",
    "    neighbors = list(G.neighbors(node))\n",
    "    \n",
    "    G.nodes[node]['weight'] = - G.nodes[node]['weight']\n",
    "    \n",
    "    for neighbor in neighbors:\n",
    "        nowa_waga = G.nodes[neighbor]['weight'] + G.nodes[node]['weight']\n",
    "        G.nodes[neighbor]['weight'] = nowa_waga\n",
    "        \n",
    "    for _, w in G.nodes(data='weight'):\n",
    "        wagi.append(w)\n",
    "    return wagi"
   ]
  },
  {
   "cell_type": "markdown",
   "id": "6c8dd540-c3f4-4396-a985-375e0a88e427",
   "metadata": {},
   "source": [
    "### W funkcji odbicia podajesz za argument graf wcześniej zdefiniowany za pomocą funkcji T_pqr(p,q,r) np zapisujesz Dx=T_pqr(p,q,r)\n",
    "### n to liczba kopii takiego grafu\n",
    "### node wiadomo, dla zmiennej wagi_macierz musisz też zadeklarować wagi z symetrycznej/zewnętrznej"
   ]
  },
  {
   "cell_type": "code",
   "execution_count": 70,
   "id": "e4a0ca05-a7b9-4c0a-9f5e-0ff4e6ae7d81",
   "metadata": {},
   "outputs": [],
   "source": [
    "def odbicia(graph, n, node, wagi_macierz):\n",
    "    # Stworzenie kopii grafów, aby żadne na siebie nie wpływały\n",
    "    graphs = [graph.copy() for _ in range(n)]\n",
    "    \n",
    "    odbicia_list = []\n",
    "    \n",
    "    for G, wagi in zip(graphs, wagi_macierz):\n",
    "        nadawanie_wag(G, n, [wagi])\n",
    "        odbicie_result = odbicie(G, node)\n",
    "        odbicia_list.append(odbicie_result)\n",
    "    \n",
    "    return odbicia_list"
   ]
  },
  {
   "cell_type": "code",
   "execution_count": null,
   "id": "38064196-60be-491d-b922-6ae2f60629d2",
   "metadata": {},
   "outputs": [],
   "source": []
  }
 ],
 "metadata": {
  "kernelspec": {
   "display_name": "Python 3 (ipykernel)",
   "language": "python",
   "name": "python3"
  },
  "language_info": {
   "codemirror_mode": {
    "name": "ipython",
    "version": 3
   },
   "file_extension": ".py",
   "mimetype": "text/x-python",
   "name": "python",
   "nbconvert_exporter": "python",
   "pygments_lexer": "ipython3",
   "version": "3.9.13"
  }
 },
 "nbformat": 4,
 "nbformat_minor": 5
}
