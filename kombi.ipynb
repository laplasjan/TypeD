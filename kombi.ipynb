{
 "cells": [
  {
   "cell_type": "code",
   "execution_count": 380,
   "id": "dd904401-2729-4f67-935b-c6f50b2d0425",
   "metadata": {},
   "outputs": [],
   "source": [
    "from itertools import combinations\n",
    "import numpy as np"
   ]
  },
  {
   "cell_type": "code",
   "execution_count": 390,
   "id": "898a6d90",
   "metadata": {},
   "outputs": [
    {
     "name": "stdout",
     "output_type": "stream",
     "text": [
      "[[ 1  2  3  4]\n",
      " [ 5  6  7  8]\n",
      " [ 9 10 11 12]]\n"
     ]
    }
   ],
   "source": [
    "A = np.matrix('1,2,3,4 ; 5,6,7,8 ; 9,10,11,12')\n",
    "print(A)"
   ]
  },
  {
   "cell_type": "code",
   "execution_count": 463,
   "id": "080fdd2d",
   "metadata": {},
   "outputs": [
    {
     "data": {
      "text/plain": [
       "[matrix([[15, 18, 21, 24]])]"
      ]
     },
     "execution_count": 463,
     "metadata": {},
     "output_type": "execute_result"
    }
   ],
   "source": [
    "zewnetrzna(A,3)"
   ]
  },
  {
   "cell_type": "code",
   "execution_count": 462,
   "id": "de137257",
   "metadata": {},
   "outputs": [],
   "source": [
    "### To działa\n",
    "def zewnetrzna(A, k):\n",
    "    liczba_wierszy = A.shape[0]\n",
    "    zewn = []\n",
    "    for kombinacja in itertools.combinations(range(liczba_wierszy), k):\n",
    "        suma = np.sum(A[list(kombinacja)], axis=0)\n",
    "        zewn.append(suma)\n",
    "    return zewn"
   ]
  },
  {
   "cell_type": "code",
   "execution_count": 469,
   "id": "6b1c806f",
   "metadata": {},
   "outputs": [],
   "source": [
    "def symetryczna(A,k):\n",
    "    liczba_wierszy = A.shape[0]\n",
    "    zewn = []\n",
    "    for kombinacja in itertools.combinations_with_replacement(range(liczba_wierszy), k):\n",
    "        suma = np.sum(A[list(kombinacja)], axis=0)\n",
    "        zewn.append(suma)  \n",
    "    return zewn"
   ]
  },
  {
   "cell_type": "code",
   "execution_count": 470,
   "id": "80416cba",
   "metadata": {},
   "outputs": [
    {
     "data": {
      "text/plain": [
       "[matrix([[2, 4, 6, 8]]),\n",
       " matrix([[ 6,  8, 10, 12]]),\n",
       " matrix([[10, 12, 14, 16]]),\n",
       " matrix([[10, 12, 14, 16]]),\n",
       " matrix([[14, 16, 18, 20]]),\n",
       " matrix([[18, 20, 22, 24]])]"
      ]
     },
     "execution_count": 470,
     "metadata": {},
     "output_type": "execute_result"
    }
   ],
   "source": [
    "symetryczna(A, 2)"
   ]
  },
  {
   "cell_type": "code",
   "execution_count": null,
   "id": "315af583",
   "metadata": {},
   "outputs": [],
   "source": [
    "### jeśli runujesz to na macierzy A zauważ, że 2*v2 = v1+v3 :)"
   ]
  }
 ],
 "metadata": {
  "kernelspec": {
   "display_name": "Python 3 (ipykernel)",
   "language": "python",
   "name": "python3"
  },
  "language_info": {
   "codemirror_mode": {
    "name": "ipython",
    "version": 3
   },
   "file_extension": ".py",
   "mimetype": "text/x-python",
   "name": "python",
   "nbconvert_exporter": "python",
   "pygments_lexer": "ipython3",
   "version": "3.9.13"
  }
 },
 "nbformat": 4,
 "nbformat_minor": 5
}
