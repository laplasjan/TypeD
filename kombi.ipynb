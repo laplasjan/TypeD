{
 "cells": [
  {
   "cell_type": "code",
   "execution_count": 6,
   "id": "6d6144f8-ff27-4dc1-8fe9-898f9357a106",
   "metadata": {},
   "outputs": [],
   "source": [
    "def zewnetrzna(wagi, k):\n",
    "    if k > len(wagi):\n",
    "        print(\"Błąd: Podano więcej składników niż dostępnych wag.\")\n",
    "        return None\n",
    "\n",
    "    suma = sum(wagi[:k])\n",
    "    return suma"
   ]
  },
  {
   "cell_type": "code",
   "execution_count": 7,
   "id": "5a70f143-531c-458e-b962-ceb78c527a37",
   "metadata": {},
   "outputs": [
    {
     "data": {
      "text/plain": [
       "8"
      ]
     },
     "execution_count": 7,
     "metadata": {},
     "output_type": "execute_result"
    }
   ],
   "source": [
    "wagi = [1,1,1,2,3,4,5]\n",
    "k = 5\n",
    "zewnetrzna(wagi,k)"
   ]
  },
  {
   "cell_type": "code",
   "execution_count": 8,
   "id": "9f798f6e-38ad-48eb-a2d9-1fdc975c752c",
   "metadata": {},
   "outputs": [],
   "source": [
    "def wewnetrzna(wagi, indeksy):\n",
    "    suma = sum(wagi[i] for i in indeksy if i < len(wagi))\n",
    "    return suma\n"
   ]
  },
  {
   "cell_type": "code",
   "execution_count": 9,
   "id": "01e9e45d-c6cb-4a33-9cf8-cebb86bfc130",
   "metadata": {},
   "outputs": [
    {
     "data": {
      "text/plain": [
       "8"
      ]
     },
     "execution_count": 9,
     "metadata": {},
     "output_type": "execute_result"
    }
   ],
   "source": [
    "indeksy = [1,1,1,3,4]\n",
    "wewnetrzna(wagi, indeksy)"
   ]
  },
  {
   "cell_type": "code",
   "execution_count": null,
   "id": "7a8e5835-ef8d-4f65-826d-90c233638cce",
   "metadata": {},
   "outputs": [],
   "source": []
  }
 ],
 "metadata": {
  "kernelspec": {
   "display_name": "Python 3 (ipykernel)",
   "language": "python",
   "name": "python3"
  },
  "language_info": {
   "codemirror_mode": {
    "name": "ipython",
    "version": 3
   },
   "file_extension": ".py",
   "mimetype": "text/x-python",
   "name": "python",
   "nbconvert_exporter": "python",
   "pygments_lexer": "ipython3",
   "version": "3.9.13"
  }
 },
 "nbformat": 4,
 "nbformat_minor": 5
}
